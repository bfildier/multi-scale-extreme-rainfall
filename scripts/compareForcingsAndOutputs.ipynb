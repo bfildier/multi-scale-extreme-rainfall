{
 "cells": [
  {
   "cell_type": "markdown",
   "metadata": {
    "toc": "true"
   },
   "source": [
    "# Table of Contents\n",
    " <p><div class=\"lev1\"><a href=\"#Comparing-SSTs\"><span class=\"toc-item-num\">1&nbsp;&nbsp;</span>Comparing SSTs</a></div>"
   ]
  },
  {
   "cell_type": "code",
   "execution_count": 2,
   "metadata": {
    "ExecuteTime": {
     "end_time": "2016-11-14T09:50:40.918492",
     "start_time": "2016-11-14T09:50:40.880620"
    },
    "collapsed": false,
    "run_control": {
     "frozen": false,
     "read_only": false
    }
   },
   "outputs": [
    {
     "name": "stdout",
     "output_type": "stream",
     "text": [
      "The autoreload extension is already loaded. To reload it, use:\n",
      "  %reload_ext autoreload\n"
     ]
    }
   ],
   "source": [
    "%matplotlib inline\n",
    "%load_ext autoreload\n",
    "%autoreload 2\n",
    "\n",
    "from mpl_toolkits.basemap import Basemap\n",
    "import numpy as np\n",
    "import numpy.ma as ma\n",
    "import matplotlib.pyplot as plt\n",
    "from netCDF4 import Dataset\n",
    "from math import *\n",
    "import glob\n",
    "import string\n",
    "from datetime import date, time, datetime\n",
    "from pprint import pprint\n",
    "import sys,os\n",
    "\n",
    "plt.rcParams.update({'axes.labelsize': 'x-large',\n",
    "                     'axes.titlesize': 'x-large',\n",
    "                     'xtick.labelsize': 'large',\n",
    "                     'ytick.labelsize': 'large',\n",
    "                     'figure.titlesize': 'xx-large',\n",
    "                     'figure.subplot.top': '0.87',\n",
    "                     'figure.subplot.wspace': '0.5',\n",
    "                     'figure.subplot.hspace': '0.3'})"
   ]
  },
  {
   "cell_type": "code",
   "execution_count": 6,
   "metadata": {
    "ExecuteTime": {
     "end_time": "2016-11-14T19:12:49.965505",
     "start_time": "2016-11-14T19:12:49.937471"
    },
    "collapsed": true
   },
   "outputs": [],
   "source": [
    "# Add ../functions to system path\n",
    "currentpath = %pwd\n",
    "currentpath = str(currentpath)\n",
    "##-- In a python script do the following instead:\n",
    "##-- currentpath = os.path.dirname(os.path.realpath(__file__))\n",
    "sys.path.insert(0,currentpath[:currentpath.rfind('/')+1]+'functions')\n",
    "\n",
    "from importingData import *\n"
   ]
  },
  {
   "cell_type": "markdown",
   "metadata": {},
   "source": [
    "# Comparing SSTs"
   ]
  },
  {
   "cell_type": "code",
   "execution_count": 15,
   "metadata": {
    "ExecuteTime": {
     "end_time": "2016-11-14T19:20:48.689304",
     "start_time": "2016-11-14T19:20:47.519858"
    },
    "collapsed": false
   },
   "outputs": [
    {
     "name": "stdout",
     "output_type": "stream",
     "text": [
      "(1968, 180, 360)\n"
     ]
    },
    {
     "ename": "AttributeError",
     "evalue": "'numpy.ndarray' object has no attribute 'mask'",
     "output_type": "error",
     "traceback": [
      "\u001b[0;31m---------------------------------------------------------------------------\u001b[0m",
      "\u001b[0;31mAttributeError\u001b[0m                            Traceback (most recent call last)",
      "\u001b[0;32m<ipython-input-15-5ce6d6eadb54>\u001b[0m in \u001b[0;36m<module>\u001b[0;34m()\u001b[0m\n\u001b[1;32m     21\u001b[0m \u001b[0mts_4xCO2_c\u001b[0m \u001b[0;34m=\u001b[0m \u001b[0;36m0.5\u001b[0m\u001b[0;34m*\u001b[0m\u001b[0;34m(\u001b[0m\u001b[0mts_4xCO2_e\u001b[0m\u001b[0;34m[\u001b[0m\u001b[0;34m:\u001b[0m\u001b[0;34m-\u001b[0m\u001b[0;36m1\u001b[0m\u001b[0;34m]\u001b[0m\u001b[0;34m+\u001b[0m\u001b[0mts_4xCO2_e\u001b[0m\u001b[0;34m[\u001b[0m\u001b[0;36m1\u001b[0m\u001b[0;34m:\u001b[0m\u001b[0;34m]\u001b[0m\u001b[0;34m)\u001b[0m\u001b[0;34m\u001b[0m\u001b[0m\n\u001b[1;32m     22\u001b[0m \u001b[0;34m\u001b[0m\u001b[0m\n\u001b[0;32m---> 23\u001b[0;31m \u001b[0;32mprint\u001b[0m \u001b[0mts_PI\u001b[0m\u001b[0;34m.\u001b[0m\u001b[0mmask\u001b[0m\u001b[0;34m.\u001b[0m\u001b[0msum\u001b[0m\u001b[0;34m(\u001b[0m\u001b[0;34m)\u001b[0m\u001b[0;34m\u001b[0m\u001b[0m\n\u001b[0m\u001b[1;32m     24\u001b[0m \u001b[0;34m\u001b[0m\u001b[0m\n\u001b[1;32m     25\u001b[0m \u001b[0mfig\u001b[0m\u001b[0;34m,\u001b[0m \u001b[0;34m(\u001b[0m\u001b[0max1\u001b[0m\u001b[0;34m,\u001b[0m\u001b[0max2\u001b[0m\u001b[0;34m)\u001b[0m \u001b[0;34m=\u001b[0m \u001b[0mplt\u001b[0m\u001b[0;34m.\u001b[0m\u001b[0msubplots\u001b[0m\u001b[0;34m(\u001b[0m\u001b[0mncols\u001b[0m\u001b[0;34m=\u001b[0m\u001b[0;36m2\u001b[0m\u001b[0;34m,\u001b[0m\u001b[0mnrows\u001b[0m\u001b[0;34m=\u001b[0m\u001b[0;36m1\u001b[0m\u001b[0;34m,\u001b[0m\u001b[0mfigsize\u001b[0m\u001b[0;34m=\u001b[0m\u001b[0;34m(\u001b[0m\u001b[0;36m12\u001b[0m\u001b[0;34m,\u001b[0m\u001b[0;36m5\u001b[0m\u001b[0;34m)\u001b[0m\u001b[0;34m)\u001b[0m\u001b[0;34m\u001b[0m\u001b[0m\n",
      "\u001b[0;31mAttributeError\u001b[0m: 'numpy.ndarray' object has no attribute 'mask'"
     ]
    }
   ],
   "source": [
    "## Boundary conditions\n",
    "dir_BCs = '/Users/bfildier/Data/spcam/BCs/final'\n",
    "file_BCs_PI = 'sstice_bc_clim_1x1_CESM1-CAM5_piControl_r1i1p1_185001-201312.nc'\n",
    "file_BCs_4xCO2 = 'sstice_bc_clim_1x1_CESM1-CAM5_abrupt4xCO2_r3i1p1_185001-201312.nc'\n",
    "\n",
    "fh_PI = Dataset(os.path.join(dir_BCs,file_BCs_PI),'r')\n",
    "sst_PI = fh_PI.variables['SST_cpl'][:]\n",
    "print sst_PI.shape\n",
    "\n",
    "## Simulation results\n",
    "inputdir_PI = '/Users/bfildier/Data/simulations/CESM111-SPCAM20/piControl/day/r1i1p1'\n",
    "inputdir_4xCO2 = '/Users/bfildier/Data/simulations/CESM111-SPCAM20/abrupt4xCO2/day/r1i1p1'\n",
    "\n",
    "ts_id = 'TS'\n",
    "ts_PI = getVar(ts_id,inputdir_PI)\n",
    "ts_4xCO2 = getVar(ts_id,inputdir_4xCO2)\n",
    "\n",
    "h_PI, ts_PI_e = np.histogram(ts_PI,bins=100)\n",
    "ts_PI_c = 0.5*(ts_PI_e[:-1]+ts_PI_e[1:])\n",
    "h_4xCO2, ts_4xCO2_e = np.histogram(ts_4xCO2,bins=100)\n",
    "ts_4xCO2_c = 0.5*(ts_4xCO2_e[:-1]+ts_4xCO2_e[1:])\n",
    "\n",
    "\n",
    "\n",
    "fig, (ax1,ax2) = plt.subplots(ncols=2,nrows=1,figsize=(12,5))\n",
    "\n",
    "\n",
    "\n",
    "ax2.plot(ts_PI_c,h_PI)\n",
    "ax2.plot(ts_4xCO2_c,h_4xCO2)"
   ]
  }
 ],
 "metadata": {
  "hide_input": false,
  "kernelspec": {
   "display_name": "Python 2",
   "language": "python",
   "name": "python2"
  },
  "language_info": {
   "codemirror_mode": {
    "name": "ipython",
    "version": 2
   },
   "file_extension": ".py",
   "mimetype": "text/x-python",
   "name": "python",
   "nbconvert_exporter": "python",
   "pygments_lexer": "ipython2",
   "version": "2.7.11"
  },
  "latex_envs": {
   "bibliofile": "biblio.bib",
   "cite_by": "apalike",
   "current_citInitial": 1,
   "eqLabelWithNumbers": true,
   "eqNumInitial": 0
  },
  "toc": {
   "toc_cell": true,
   "toc_number_sections": true,
   "toc_threshold": 6,
   "toc_window_display": false
  }
 },
 "nbformat": 4,
 "nbformat_minor": 0
}
