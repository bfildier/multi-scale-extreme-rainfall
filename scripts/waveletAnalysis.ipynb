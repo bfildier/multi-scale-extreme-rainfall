{
 "cells": [
  {
   "cell_type": "markdown",
   "metadata": {
    "toc": "true"
   },
   "source": [
    "# Table of Contents\n",
    " <p><div class=\"lev1\"><a href=\"#Analysis\"><span class=\"toc-item-num\">1&nbsp;&nbsp;</span>Analysis</a></div>"
   ]
  },
  {
   "cell_type": "markdown",
   "metadata": {
    "hide_input": false
   },
   "source": [
    "Modules"
   ]
  },
  {
   "cell_type": "code",
   "execution_count": 5,
   "metadata": {
    "ExecuteTime": {
     "end_time": "2017-06-29T14:27:34.417260",
     "start_time": "2017-06-29T14:27:33.958464"
    },
    "collapsed": false,
    "hide_input": true,
    "run_control": {
     "frozen": false,
     "read_only": false
    }
   },
   "outputs": [
    {
     "name": "stdout",
     "output_type": "stream",
     "text": [
      "The autoreload extension is already loaded. To reload it, use:\n",
      "  %reload_ext autoreload\n"
     ]
    }
   ],
   "source": [
    "%matplotlib inline\n",
    "%load_ext autoreload\n",
    "%autoreload 2\n",
    "\n",
    "from mpl_toolkits.basemap import Basemap\n",
    "import numpy as np\n",
    "import numpy.ma as ma\n",
    "import matplotlib.pyplot as plt\n",
    "from matplotlib.colors import LogNorm\n",
    "from matplotlib import gridspec\n",
    "from netCDF4 import Dataset\n",
    "from math import *\n",
    "import glob\n",
    "import string\n",
    "import re\n",
    "from datetime import date, time, datetime\n",
    "from pprint import pprint\n",
    "import sys,os\n",
    "import csv\n",
    "import pandas as pd\n",
    "import pickle\n",
    "import matplotlib.transforms as mtransforms\n",
    "import pywt"
   ]
  },
  {
   "cell_type": "markdown",
   "metadata": {},
   "source": [
    "Paths"
   ]
  },
  {
   "cell_type": "code",
   "execution_count": 11,
   "metadata": {
    "ExecuteTime": {
     "end_time": "2017-06-29T15:33:34.695136",
     "start_time": "2017-06-29T15:33:34.658757"
    },
    "collapsed": true,
    "hide_input": false,
    "run_control": {
     "frozen": false,
     "read_only": false
    }
   },
   "outputs": [],
   "source": [
    "# Add ../functions to system path\n",
    "currentpath = %pwd\n",
    "currentpath = str(currentpath)\n",
    "##-- In a python script do the following instead:\n",
    "##-- currentpath = os.path.dirname(os.path.realpath(__file__))\n",
    "sys.path.insert(0,currentpath[:currentpath.rfind('/')+1]+'functions')\n",
    "\n",
    "## Fixed data files input directory\n",
    "inputdir_fx = '/Users/bfildier/Data/preprocessed/allExperiments/fx'\n",
    "# ## Dataframe input directory\n",
    "# # resultdir = os.path.join(os.path.dirname(currentpath),'results')\n",
    "# resultdir = os.path.join(os.path.dirname(currentpath),'results/fullResults')\n",
    "# ## Maps (2D tropical data files) input directory\n",
    "# inputdir_maps = os.path.join(os.path.dirname(currentpath),'inputs/forMaps')\n",
    "datadir = '/Users/bfildier/Code/python/2016/SpcamExtremes/outputs'\n",
    "\n",
    "##-- Output directories --##\n",
    "## Figures\n",
    "figdir = os.path.join(os.path.dirname(currentpath),'figures/fullResults')\n"
   ]
  },
  {
   "cell_type": "markdown",
   "metadata": {
    "hide_input": false
   },
   "source": [
    "Graphical parameters"
   ]
  },
  {
   "cell_type": "code",
   "execution_count": 4,
   "metadata": {
    "ExecuteTime": {
     "end_time": "2017-06-29T14:12:48.594505",
     "start_time": "2017-06-29T14:12:48.368257"
    },
    "collapsed": false,
    "hide_input": true,
    "run_control": {
     "frozen": false,
     "read_only": false
    }
   },
   "outputs": [],
   "source": [
    "###--- Set up graphical parameters ---###\n",
    "\n",
    "##-- Figure setup --##\n",
    "plt.rcParams.update({'axes.labelsize': 'x-large',\n",
    "                     'axes.titlesize': 'x-large',\n",
    "                     'xtick.labelsize': 'large',\n",
    "                     'ytick.labelsize': 'large',\n",
    "                     'figure.titlesize': 'xx-large',\n",
    "                     'figure.subplot.top': '0.87',\n",
    "                     'figure.subplot.wspace': '0.3',\n",
    "                     'figure.subplot.hspace': '0.3',\n",
    "                     'legend.fontsize':'medium'})\n",
    "\n",
    "##-- Load colors for plots --##\n",
    "colorfile = os.path.join(currentpath,'colorsAndTypes.pickle')\n",
    "with open(colorfile,'rb') as handle:\n",
    "    col = pickle.load(handle)\n",
    "    lt = pickle.load(handle)\n",
    "    pal = pickle.load(handle)\n",
    "    lw = pickle.load(handle)\n",
    "    dashes = pickle.load(handle)\n",
    "    mark = pickle.load(handle)\n",
    "    cmaps = pickle.load(handle)"
   ]
  },
  {
   "cell_type": "markdown",
   "metadata": {},
   "source": [
    "Own modules and functions"
   ]
  },
  {
   "cell_type": "code",
   "execution_count": 6,
   "metadata": {
    "ExecuteTime": {
     "end_time": "2017-06-29T15:28:05.844598",
     "start_time": "2017-06-29T15:28:04.063613"
    },
    "collapsed": true,
    "hide_input": true,
    "run_control": {
     "frozen": false,
     "read_only": false
    }
   },
   "outputs": [],
   "source": [
    "from importingData import *\n",
    "from extremeScaling import *\n",
    "from thermodynamics import *\n",
    "from thermo_funcs import *\n",
    "from thermo_constants import *"
   ]
  },
  {
   "cell_type": "markdown",
   "metadata": {
    "hide_input": false
   },
   "source": [
    "Global variables and datasets"
   ]
  },
  {
   "cell_type": "code",
   "execution_count": 9,
   "metadata": {
    "ExecuteTime": {
     "end_time": "2017-06-29T15:33:26.923177",
     "start_time": "2017-06-29T15:33:26.786454"
    },
    "collapsed": false,
    "hide_input": true,
    "run_control": {
     "frozen": false,
     "read_only": false
    }
   },
   "outputs": [],
   "source": [
    "###--- Datasets ---###\n",
    "\n",
    "## Dataset parameter sets and variable sets\n",
    "compsets = (\"FSPCAMm_AMIP\",\"FAMIPC5\")\n",
    "experiments = (\"piControl\",\"abrupt4xCO2\")\n",
    "subsets = (\"tropics\",\"ocean\",\"land\",\"mfzero\")\n",
    "subsets_for_comp = dict(zip(compsets,(subsets,subsets[:-1])))\n",
    "\n",
    "## Individual names\n",
    "compset_SPCAM, compset_CAM5 = compsets\n",
    "experiment_PI, experiment_4xCO2 = experiments\n",
    "subset_all, subset_ocean, subset_land, subset_mf = subsets\n",
    "\n",
    "\n",
    "##--- Related to scaling ---##\n",
    "\n",
    "## Simulation vs. pr scaling\n",
    "pr_types = [\"simulated\",\"scaling\"]\n",
    "## Contributions to fractional changes\n",
    "# contributions = [\"mass\",\"thermo\",\"dyn_mean\",\"dyn_profile\",\"pressure\",\"non_linear\",\"all\"]\n",
    "# contributions_labs = [\"Mass\",\"Thermodynamic\",r\"Mass flux\",r\"Profile shift\",\"Pressure\",\"Non linear\",\"Sum\"]\n",
    "contributions = [\"thermo\",\"dyn_mean\",\"dyn_mean_th\",\"dyn_mean_dyn\",\"dyn_profile\",\"non_linear\",\"all\"]\n",
    "contributions_labs = [\"Thermodynamic\",r\"Mass flux\",r\"Mass flux ($\\Delta \\rho$)\",r\"Mass flux ($\\Delta w$)\",\n",
    "                      r\"Profile shift\",\"Non linear\",\"Sum\"]\n",
    "contributions_labels = dict(zip(contributions,contributions_labs))\n",
    "\n",
    "###--- Variables ids ---###\n",
    "\n",
    "## All pr ids\n",
    "pr_ids = [\"PRECT\",\"CRM_PREC_I90\",\"CRM_PREC_I75\",\"CRM_PREC_I50\",\"CRM_PREC_I25\",\"CRM_PREC_I10\"]\n",
    "gcm_pr_id = pr_ids[0]\n",
    "crm_pr_ids = pr_ids[1:]\n",
    "pr_ids_for_compset = {compsets[0]:pr_ids, compsets[1]:[gcm_pr_id]}\n",
    "\n",
    "area_id_root = \"PRECAREA_\"\n",
    "area_ids = [area_id_root+crm_pr_id.split('_')[-1] for crm_pr_id in crm_pr_ids]\n",
    "\n",
    "frac_id_root = \"PRECFRAC_\"\n",
    "frac_ids = [frac_id_root+crm_pr_id.split('_')[-1] for crm_pr_id in crm_pr_ids]\n",
    "\n",
    "## Define IDs of variables required for plotting profiles\n",
    "varids_for_profiles = {\"PRECT\":('PS','T','Q','RELHUM','OMEGA','W')}\n",
    "for f in [90,75,50,25,10]:\n",
    "#     varids_for_profiles[\"CRM_PREC_I%s\"%str(f)] = ('PS','CRM_T_I%s'%str(f),'CRM_QC_I%s'%str(f),'CRM_H_I%s'%str(f),\n",
    "#                                            'CRM_OMEGA_I%s'%str(f),'CRM_W_I%s'%str(f))\n",
    "    varids_for_profiles[\"CRM_PREC_I%s\"%str(f)] = ('PS','CRM_T_I%s'%str(f),'Q','CRM_H_I%s'%str(f),\n",
    "                                           'CRM_OMEGA_I%s'%str(f),'CRM_W_I%s'%str(f))\n",
    "\n",
    "## Define IDs of variables required for computing scaling\n",
    "varids_for_scaling = {\"PRECT\":('PS','T','OMEGA','W')}\n",
    "varids_for_scaling_updrafts = {\"PRECT\":('PS','T','OMEGA','W')}\n",
    "for f in [90,75,50,25,10]:\n",
    "    varids_for_scaling[\"CRM_PREC_I%s\"%str(f)] = ('PS','CRM_T_I%s'%str(f),'CRM_OMEGA_I%s'%str(f),'CRM_W_I%s'%str(f))\n",
    "    varids_for_scaling_updrafts[\"CRM_PREC_I%s\"%str(f)] = ('PS','CRM_T_I%s'%str(f),'CRM_OMEGA_I%s'%str(f),'CRM_WUP_I%s'%str(f))\n",
    "\n",
    "## Define percentile values\n",
    "Q_IL_ext = np.array([90.0, 92.0567, 93.6904, 94.9881, 96.0189, 96.8377, 97.4881, 98.0047, 98.4151, 98.7411,\n",
    "        99.0, 99.2057, 99.369, 99.4988, 99.6019, 99.6838, 99.7488, 99.8005, 99.8415, 99.8741,\n",
    "        99.9, 99.9206, 99.9369, 99.9499, 99.9602, 99.9684, 99.9749, 99.98, 99.9842, 99.9874,\n",
    "        99.99, 99.9921, 99.9937, 99.995, 99.996, 99.9968, 99.9975, 99.998, 99.9984, 99.9987,99.999])\n",
    "Qs = [90.,96.8377,99.,99.6838,99.9,99.9684,99.99,99.9968]\n",
    "Q_ids = ['90.0','96.8377','99.0','99.6838','99.9','99.9684','99.99','99.9968']\n",
    "\n",
    "###--- Legends, titles and labels ---###\n",
    "    \n",
    "## Corresponding legend labels\n",
    "compset_labs = [\"SPCAM\",\"CAM5\"]\n",
    "compset_labels = dict(zip(compsets,compset_labs))\n",
    "\n",
    "exp_labs = [\"Pre-industrial\",\"4xCO2\"]\n",
    "exp_labels = dict(zip(experiments,exp_labs))\n",
    "\n",
    "subset_labs = [\"Tropics\",\"Tropical oceans\",\"Tropical land\",\"Zero mass flux\"]\n",
    "subset_labels = dict(zip(subsets,subset_labs))\n",
    "\n",
    "pr_labs = [r\"$P(GCM)$\",r\"$P(CRM)$ largest $90\\%$\",r\"$P(CRM)$ largest $75\\%$\",r\"$P(CRM)$ largest $50\\%$\",\n",
    "             r\"$P(CRM)$ largest $25\\%$\",r\"$P(CRM)$ largest $10\\%$\"]\n",
    "pr_labels = dict(zip(pr_ids,pr_labs))\n",
    "pr_labs_short = [r\"$P(GCM)$\",r\"${\\left[P(CRM)\\right]}^{90\\%}$\",r\"${\\left[P(CRM)\\right]}^{75\\%}$\",\n",
    "                 r\"${\\left[P(CRM)\\right]}^{50\\%}$\",\n",
    "             r\"${\\left[P(CRM)\\right]}^{25\\%}$\",r\"${\\left[P(CRM)\\right]}^{10\\%}$\"]\n",
    "pr_labels_short = dict(zip(pr_ids,pr_labs_short))\n",
    "pr_labs_veryshort = [r\"$P_{GCM}$\",r\"$P_{CRM}^{90\\%}$\",r\"$P_{CRM}^{75\\%}$\",\n",
    "                 r\"$P_{CRM}^{50\\%}$\",r\"$P_{CRM}^{25\\%}$\",r\"$P_{CRM}^{10\\%}$\"]\n",
    "pr_labels_veryshort = dict(zip(pr_ids,pr_labs_veryshort))\n",
    "pr_labs_vvshort = [r\"$P_{GCM}$\",r\"$P_{CRM}$\",r\"$P_{CRM}$\",r\"$P_{CRM}$\",r\"$P_{CRM}$\",r\"$P_{CRM}$\"]\n",
    "pr_labels_vvshort = dict(zip(pr_ids,pr_labs_vvshort))\n",
    "\n",
    "\n",
    "###--- Results and others ---###\n",
    "\n",
    "## Vertical pressure coordinate function\n",
    "lev_file = 'lev_fx_CESM111-SPCAM20_allExperiments_r0i0p0.nc'\n",
    "computeP = getPressureCoordinateFunction(os.path.join(inputdir_fx,lev_file))\n"
   ]
  },
  {
   "cell_type": "markdown",
   "metadata": {},
   "source": [
    "# Analysis"
   ]
  },
  {
   "cell_type": "markdown",
   "metadata": {},
   "source": [
    "Import precipitation data"
   ]
  },
  {
   "cell_type": "code",
   "execution_count": 19,
   "metadata": {
    "ExecuteTime": {
     "end_time": "2017-06-29T15:34:51.937063",
     "start_time": "2017-06-29T15:34:51.851278"
    },
    "collapsed": false,
    "hide_input": true
   },
   "outputs": [
    {
     "name": "stdout",
     "output_type": "stream",
     "text": [
      "/Users/bfildier/Code/python/2016/SpcamExtremes/outputs/bf_FSPCAMm_AMIP_piControl/day\n"
     ]
    }
   ],
   "source": [
    "compset = \"FSPCAMm_AMIP\"\n",
    "varids = [\"PRECT\",\"CRM_PREC_I50\"]\n",
    "values = {}\n",
    "for experiment in (experiments[0],):\n",
    "    values[experiment] = {}\n",
    "    casedir = \"bf_%s_%s\"%(compset,experiment)\n",
    "    inputdir = os.path.join(datadir,casedir,'day')\n",
    "    for varid in varids:\n",
    "        v = getVar(varid,inputdir)*8.64*10**7 ## mm/day\n",
    "        values[experiment][varid] = v\n"
   ]
  },
  {
   "cell_type": "code",
   "execution_count": 30,
   "metadata": {
    "ExecuteTime": {
     "end_time": "2017-06-29T15:40:25.849720",
     "start_time": "2017-06-29T15:40:25.785989"
    },
    "collapsed": false,
    "scrolled": false
   },
   "outputs": [
    {
     "ename": "IndexError",
     "evalue": "list index out of range",
     "output_type": "error",
     "traceback": [
      "\u001b[0;31m---------------------------------------------------------------------------\u001b[0m",
      "\u001b[0;31mIndexError\u001b[0m                                Traceback (most recent call last)",
      "\u001b[0;32m<ipython-input-30-bc52313e6818>\u001b[0m in \u001b[0;36m<module>\u001b[0;34m()\u001b[0m\n\u001b[1;32m      2\u001b[0m \u001b[0mvals\u001b[0m \u001b[0;34m=\u001b[0m \u001b[0mvalues\u001b[0m\u001b[0;34m[\u001b[0m\u001b[0mexperiment_PI\u001b[0m\u001b[0;34m]\u001b[0m\u001b[0;34m[\u001b[0m\u001b[0mpr_id\u001b[0m\u001b[0;34m]\u001b[0m\u001b[0;34m\u001b[0m\u001b[0m\n\u001b[1;32m      3\u001b[0m \u001b[0mWc\u001b[0m \u001b[0;34m=\u001b[0m \u001b[0mpywt\u001b[0m\u001b[0;34m.\u001b[0m\u001b[0mwavedec\u001b[0m\u001b[0;34m(\u001b[0m\u001b[0mvals\u001b[0m\u001b[0;34m,\u001b[0m\u001b[0;34m'haar'\u001b[0m\u001b[0;34m,\u001b[0m\u001b[0mlevel\u001b[0m\u001b[0;34m=\u001b[0m\u001b[0;36m1\u001b[0m\u001b[0;34m)\u001b[0m\u001b[0;34m\u001b[0m\u001b[0m\n\u001b[0;32m----> 4\u001b[0;31m \u001b[0;32mprint\u001b[0m \u001b[0mlen\u001b[0m\u001b[0;34m(\u001b[0m\u001b[0mWc\u001b[0m\u001b[0;34m[\u001b[0m\u001b[0;36m3\u001b[0m\u001b[0;34m]\u001b[0m\u001b[0;34m)\u001b[0m\u001b[0;34m\u001b[0m\u001b[0m\n\u001b[0m",
      "\u001b[0;31mIndexError\u001b[0m: list index out of range"
     ]
    }
   ],
   "source": [
    "pr_id = \"PRECT\"\n",
    "vals = values[experiment_PI][pr_id]\n",
    "Wc = pywt.wavedec(vals,'haar',level=1)\n",
    "print len(Wc[3])"
   ]
  }
 ],
 "metadata": {
  "hide_input": true,
  "kernelspec": {
   "display_name": "Python 2",
   "language": "python",
   "name": "python2"
  },
  "language_info": {
   "codemirror_mode": {
    "name": "ipython",
    "version": 2
   },
   "file_extension": ".py",
   "mimetype": "text/x-python",
   "name": "python",
   "nbconvert_exporter": "python",
   "pygments_lexer": "ipython2",
   "version": "2.7.13"
  },
  "latex_envs": {
   "bibliofile": "biblio.bib",
   "cite_by": "apalike",
   "current_citInitial": 1,
   "eqLabelWithNumbers": true,
   "eqNumInitial": 0
  },
  "toc": {
   "toc_cell": true,
   "toc_number_sections": true,
   "toc_threshold": 6,
   "toc_window_display": false
  }
 },
 "nbformat": 4,
 "nbformat_minor": 0
}
