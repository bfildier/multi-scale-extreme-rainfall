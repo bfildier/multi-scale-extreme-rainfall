{
 "cells": [
  {
   "cell_type": "markdown",
   "metadata": {
    "hide_input": true,
    "toc": "true"
   },
   "source": [
    "# Table of Contents\n",
    " <p><div class=\"lev1\"><a href=\"#Land-mask\"><span class=\"toc-item-num\">1&nbsp;&nbsp;</span>Land mask</a></div><div class=\"lev2\"><a href=\"#Define-directories-and-file-names\"><span class=\"toc-item-num\">1.1&nbsp;&nbsp;</span>Define directories and file names</a></div><div class=\"lev2\"><a href=\"#Create-outputfile-with-correct-dimensions\"><span class=\"toc-item-num\">1.2&nbsp;&nbsp;</span>Create outputfile with correct dimensions</a></div><div class=\"lev2\"><a href=\"#Write-data\"><span class=\"toc-item-num\">1.3&nbsp;&nbsp;</span>Write data</a></div><div class=\"lev1\"><a href=\"#Indices-of-zero-vertical-mass-flux\"><span class=\"toc-item-num\">2&nbsp;&nbsp;</span>Indices of zero vertical mass flux</a></div><div class=\"lev1\"><a href=\"#Areacella\"><span class=\"toc-item-num\">3&nbsp;&nbsp;</span>Areacella</a></div>"
   ]
  },
  {
   "cell_type": "code",
   "execution_count": 3,
   "metadata": {
    "ExecuteTime": {
     "end_time": "2017-01-03T15:34:26.236571",
     "start_time": "2017-01-03T15:34:26.210004"
    },
    "collapsed": false,
    "run_control": {
     "frozen": false,
     "read_only": false
    }
   },
   "outputs": [
    {
     "name": "stdout",
     "output_type": "stream",
     "text": [
      "The autoreload extension is already loaded. To reload it, use:\n",
      "  %reload_ext autoreload\n"
     ]
    }
   ],
   "source": [
    "%matplotlib inline\n",
    "%load_ext autoreload\n",
    "%autoreload 2\n",
    "\n",
    "import numpy as np\n",
    "import numpy.ma as ma\n",
    "from netCDF4 import Dataset, MFDataset\n",
    "import os, sys\n",
    "\n",
    "currentpath = %pwd\n",
    "currentpath = str(currentpath)\n"
   ]
  },
  {
   "cell_type": "markdown",
   "metadata": {},
   "source": [
    "# Land mask"
   ]
  },
  {
   "cell_type": "markdown",
   "metadata": {},
   "source": [
    "## Define directories and file names"
   ]
  },
  {
   "cell_type": "code",
   "execution_count": 4,
   "metadata": {
    "ExecuteTime": {
     "end_time": "2016-11-14T18:47:37.730480",
     "start_time": "2016-11-14T18:47:37.704184"
    },
    "collapsed": false,
    "hide_input": false,
    "run_control": {
     "frozen": false,
     "read_only": false
    },
    "scrolled": true
   },
   "outputs": [
    {
     "name": "stdout",
     "output_type": "stream",
     "text": [
      "landmask_fx_CESM111-SPCAM20_allExperiments_r0i0p0.nc\n"
     ]
    }
   ],
   "source": [
    "sourcepath = os.path.join(os.path.dirname(currentpath),'inputs')\n",
    "destpath = os.path.join(os.path.dirname(currentpath),'results')\n",
    "sourcefile = 'evspsblveg_Lmon_CESM1-CAM5-1-FV2_1pctCO2_r3i1p1_000101-015012.nc'\n",
    "varname = sourcefile.split('_')[0]\n",
    "destfile = 'landmask_fx_CESM111-SPCAM20_allExperiments_r0i0p0.nc'\n",
    "print destfile"
   ]
  },
  {
   "cell_type": "markdown",
   "metadata": {},
   "source": [
    "## Create outputfile with correct dimensions"
   ]
  },
  {
   "cell_type": "code",
   "execution_count": 6,
   "metadata": {
    "ExecuteTime": {
     "end_time": "2016-11-14T18:47:58.046623",
     "start_time": "2016-11-14T18:47:57.985814"
    },
    "collapsed": false,
    "hide_input": true,
    "run_control": {
     "frozen": false,
     "read_only": false
    }
   },
   "outputs": [],
   "source": [
    "rootgrp = Dataset(os.path.join(destpath,destfile),'w')\n",
    "\n",
    "fh_source = Dataset(os.path.join(sourcepath,sourcefile),'r')\n",
    "lon_dest = fh_source.variables['lon']\n",
    "lat_dest = fh_source.variables['lat']\n",
    "\n",
    "nlat = len(lat_dest)\n",
    "lat_slice = slice(nlat/3,2*nlat/3)\n",
    "\n",
    "# Define dimensions\n",
    "lon_dim = rootgrp.createDimension(\"lon\",len(lon_dest))\n",
    "lat_dim = rootgrp.createDimension(\"lat\",nlat/3)\n",
    "# Define variables\n",
    "lon = rootgrp.createVariable(\"lon\",\"f8\",(\"lon\",))\n",
    "lat = rootgrp.createVariable(\"lat\",\"f8\",(\"lat\",))\n",
    "var = rootgrp.createVariable('landmask',\"i2\",(\"lat\",\"lon\"))\n",
    "# Define variable attributes\n",
    "lon.long_name = str(lon_dest.long_name)\n",
    "lat.long_name = str(lat_dest.long_name)\n",
    "lon.units = str(lon_dest.units)\n",
    "lat.units = str(lat_dest.units)\n",
    "var.long_name = \"Land points\"\n",
    "var.units = \"\"\n",
    "\n",
    "# Get values and compute land mask\n",
    "varname = sourcefile.split('_')[0]\n",
    "# print fh_source.variables[varname].shape\n",
    "var_source = fh_source.variables[varname][0,lat_slice,:]\n",
    "# print var_source.shape\n",
    "landmask = np.logical_not(var_source.mask)\n",
    "# print landmask.shape\n",
    "# print var.shape\n",
    "\n",
    "# Write to output\n",
    "lon[:] = lon_dest[:]\n",
    "lat[:] = lat_dest[lat_slice]\n",
    "var[:] = landmask\n",
    "\n",
    "rootgrp.close()\n"
   ]
  },
  {
   "cell_type": "markdown",
   "metadata": {},
   "source": [
    "## Write data"
   ]
  },
  {
   "cell_type": "markdown",
   "metadata": {},
   "source": [
    "# Indices of zero vertical mass flux"
   ]
  },
  {
   "cell_type": "code",
   "execution_count": 12,
   "metadata": {
    "ExecuteTime": {
     "end_time": "2017-01-03T16:28:04.806135",
     "start_time": "2017-01-03T16:28:04.780889"
    },
    "collapsed": false
   },
   "outputs": [
    {
     "name": "stdout",
     "output_type": "stream",
     "text": [
      "MFZERO_day_CESM111-SPCAM20_abrupt4xCO2_r1i1p1_18500501-18510430.nc\n"
     ]
    }
   ],
   "source": [
    "sourcepath = os.path.join(os.path.dirname(currentpath),'results/day')\n",
    "destpath = os.path.join(os.path.dirname(currentpath),'results/day')\n",
    "# sourcefile = 'MF_day_CESM111-SPCAM20_piControl_r1i1p1_18500501-18510430.nc'\n",
    "sourcefile = 'MF_day_CESM111-SPCAM20_abrupt4xCO2_r1i1p1_18500501-18510430.nc'\n",
    "varname = sourcefile.split('_')[0]\n",
    "# destfile = 'MFZERO_day_CESM111-SPCAM20_piControl_r1i1p1_18500501-18510430.nc'\n",
    "destfile = 'MFZERO_day_CESM111-SPCAM20_abrupt4xCO2_r1i1p1_18500501-18510430.nc'\n",
    "print destfile"
   ]
  },
  {
   "cell_type": "code",
   "execution_count": 15,
   "metadata": {
    "ExecuteTime": {
     "end_time": "2017-01-03T16:30:13.320451",
     "start_time": "2017-01-03T16:30:13.186832"
    },
    "collapsed": false
   },
   "outputs": [
    {
     "name": "stdout",
     "output_type": "stream",
     "text": [
      "Sample size: 410996\n",
      "(365, 32, 144)\n"
     ]
    }
   ],
   "source": [
    "rootgrp = Dataset(os.path.join(destpath,destfile),'w')\n",
    "\n",
    "fh_source = Dataset(os.path.join(sourcepath,sourcefile),'r')\n",
    "lon_dest = fh_source.variables['lon']\n",
    "lat_dest = fh_source.variables['lat']\n",
    "time_values = fh_source.variables['time']\n",
    "date_values = fh_source.variables['date']\n",
    "datesec_values = fh_source.variables['datesec']\n",
    "\n",
    "nlat = len(lat_dest)\n",
    "\n",
    "# Define dimensions\n",
    "lon_dim = rootgrp.createDimension(\"lon\",len(lon_dest))\n",
    "lat_dim = rootgrp.createDimension(\"lat\",len(lat_dest))\n",
    "time_dim = rootgrp.createDimension(\"time\",None)\n",
    "# Define variables\n",
    "lon = rootgrp.createVariable(\"lon\",\"f8\",(\"lon\",))\n",
    "lat = rootgrp.createVariable(\"lat\",\"f8\",(\"lat\",))\n",
    "time = rootgrp.createVariable(\"time\",\"f8\",(\"time\",))\n",
    "date = rootgrp.createVariable(\"date\",\"i4\",(\"time\",))\n",
    "datesec = rootgrp.createVariable(\"datesec\",\"i4\",(\"time\",))\n",
    "var = rootgrp.createVariable('MFZERO',\"i2\",(\"time\",\"lat\",\"lon\"))\n",
    "# Define variable attributes\n",
    "lon.long_name = str(lon_dest.long_name)\n",
    "lat.long_name = str(lat_dest.long_name)\n",
    "date.long_name = str(fh_source.variables['date'].long_name)\n",
    "datesec.long_name = str(fh_source.variables['datesec'].long_name)\n",
    "lon.units = str(lon_dest.units)\n",
    "lat.units = str(lat_dest.units)\n",
    "time.units = str(fh_source.variables['time'].units)\n",
    "time.calendar = str(fh_source.variables['time'].calendar)\n",
    "var.long_name = \"Points with zero vertical mass flux\"\n",
    "var.units = \"\"\n",
    "\n",
    "# Get values and find points with zero mass flux\n",
    "margin = 0.011\n",
    "varname = sourcefile.split('_')[0]\n",
    "var_source = fh_source.variables[varname][:]\n",
    "varzero = np.logical_and(var_source >= -margin, var_source <= margin)\n",
    "print \"Sample size:\", varzero.sum()\n",
    "print varzero.shape\n",
    "\n",
    "# Write to output\n",
    "lon[:] = lon_dest[:]\n",
    "lat[:] = lat_dest[:]\n",
    "time[:] = time_values[:]\n",
    "date[:] = date_values[:]\n",
    "datesec[:] = datesec_values[:]\n",
    "var[:] = varzero\n",
    "\n",
    "fh_source.close()\n",
    "rootgrp.close()"
   ]
  },
  {
   "cell_type": "markdown",
   "metadata": {
    "ExecuteTime": {
     "end_time": "2016-10-18T19:12:47.715649",
     "start_time": "2016-10-18T19:12:45.423109"
    },
    "collapsed": false,
    "run_control": {
     "frozen": false,
     "read_only": false
    }
   },
   "source": [
    "# Areacella"
   ]
  },
  {
   "cell_type": "code",
   "execution_count": 13,
   "metadata": {
    "ExecuteTime": {
     "end_time": "2016-11-28T14:34:18.352458",
     "start_time": "2016-11-28T14:34:18.332840"
    },
    "collapsed": false,
    "run_control": {
     "frozen": false,
     "read_only": false
    }
   },
   "outputs": [
    {
     "name": "stdout",
     "output_type": "stream",
     "text": [
      "3.14159265359\n"
     ]
    }
   ],
   "source": [
    "from math import pi\n",
    "print pi"
   ]
  },
  {
   "cell_type": "code",
   "execution_count": 4,
   "metadata": {
    "ExecuteTime": {
     "end_time": "2016-11-28T14:27:51.896234",
     "start_time": "2016-11-28T14:27:51.846026"
    },
    "collapsed": false,
    "run_control": {
     "frozen": false,
     "read_only": false
    }
   },
   "outputs": [
    {
     "name": "stdout",
     "output_type": "stream",
     "text": [
      "areacella_fx_CESM111-SPCAM20_allExperiments_r0i0p0.nc\n"
     ]
    }
   ],
   "source": [
    "sourcepath = '/Users/bfildier/Data/preprocessed/allExperiments/fx'\n",
    "destpath = sourcepath\n",
    "landmaskfile = 'landmask_fx_CESM111-SPCAM20_allExperiments_r0i0p0.nc'\n",
    "sourcefile = 'domain.lnd.fv1.9x2.5_gx1v6.090206.nc'\n",
    "destfile = 'areacella_fx_CESM111-SPCAM20_allExperiments_r0i0p0.nc'\n",
    "print destfile\n",
    "\n",
    "r_earth = 6.37e6"
   ]
  },
  {
   "cell_type": "code",
   "execution_count": 15,
   "metadata": {
    "ExecuteTime": {
     "end_time": "2016-11-28T14:40:11.557212",
     "start_time": "2016-11-28T14:40:11.396351"
    },
    "collapsed": false,
    "run_control": {
     "frozen": false,
     "read_only": false
    }
   },
   "outputs": [],
   "source": [
    "rootgrp = Dataset(os.path.join(destpath,destfile),'w')\n",
    "\n",
    "fh_source = Dataset(os.path.join(sourcepath,sourcefile),'r')\n",
    "fh_landmask = Dataset(os.path.join(sourcepath,landmaskfile),'r')\n",
    "lon_dest = fh_landmask.variables['lon']\n",
    "lat_dest = fh_landmask.variables['lat']\n",
    "\n",
    "nlat = len(lat_dest)\n",
    "lat_slice = slice(nlat,2*nlat)\n",
    "\n",
    "# Define dimensions\n",
    "lon_dim = rootgrp.createDimension(\"lon\",len(lon_dest))\n",
    "lat_dim = rootgrp.createDimension(\"lat\",nlat)\n",
    "# Define variables\n",
    "lon = rootgrp.createVariable(\"lon\",\"f8\",(\"lon\",))\n",
    "lat = rootgrp.createVariable(\"lat\",\"f8\",(\"lat\",))\n",
    "var = rootgrp.createVariable('areacella',\"f8\",(\"lat\",\"lon\"))\n",
    "# Define variable attributes\n",
    "lon.long_name = str(lon_dest.long_name)\n",
    "lat.long_name = str(lat_dest.long_name)\n",
    "lon.units = str(lon_dest.units)\n",
    "lat.units = str(lat_dest.units)\n",
    "var.long_name = \"Atmosphere Grid-Cell Area\"\n",
    "var.units = \"m2\"\n",
    "\n",
    "# Get values\n",
    "var_source = fh_source.variables['area'][lat_slice,:]\n",
    "\n",
    "# Write to output\n",
    "lon[:] = lon_dest[:]\n",
    "lat[:] = lat_dest[:]\n",
    "var[:] = var_source*(r_earth)**2.\n",
    "\n",
    "rootgrp.close()"
   ]
  }
 ],
 "metadata": {
  "hide_input": true,
  "kernelspec": {
   "display_name": "Python 2",
   "language": "python",
   "name": "python2"
  },
  "language_info": {
   "codemirror_mode": {
    "name": "ipython",
    "version": 2
   },
   "file_extension": ".py",
   "mimetype": "text/x-python",
   "name": "python",
   "nbconvert_exporter": "python",
   "pygments_lexer": "ipython2",
   "version": "2.7.11"
  },
  "latex_envs": {
   "bibliofile": "biblio.bib",
   "cite_by": "apalike",
   "current_citInitial": 1,
   "eqLabelWithNumbers": true,
   "eqNumInitial": 0
  },
  "toc": {
   "toc_cell": true,
   "toc_number_sections": true,
   "toc_threshold": 6,
   "toc_window_display": false
  }
 },
 "nbformat": 4,
 "nbformat_minor": 0
}
