{
 "cells": [
  {
   "cell_type": "markdown",
   "metadata": {
    "toc": "true"
   },
   "source": [
    "# Table of Contents\n",
    " <p><div class=\"lev1\"><a href=\"#Merge-dataframes\"><span class=\"toc-item-num\">1&nbsp;&nbsp;</span>Merge dataframes</a></div><div class=\"lev2\"><a href=\"#In-the-format-of-computeMeanProfileAtQuantile.py\"><span class=\"toc-item-num\">1.1&nbsp;&nbsp;</span>In the format of computeMeanProfileAtQuantile.py</a></div>"
   ]
  },
  {
   "cell_type": "markdown",
   "metadata": {
    "hide_input": false
   },
   "source": [
    "Modules"
   ]
  },
  {
   "cell_type": "code",
   "execution_count": 1,
   "metadata": {
    "ExecuteTime": {
     "end_time": "2017-07-06T11:40:59.965026",
     "start_time": "2017-07-06T11:40:54.793155"
    },
    "collapsed": false,
    "hide_input": false,
    "run_control": {
     "frozen": false,
     "read_only": false
    }
   },
   "outputs": [],
   "source": [
    "%matplotlib inline\n",
    "%load_ext autoreload\n",
    "%autoreload 2\n",
    "\n",
    "from mpl_toolkits.basemap import Basemap\n",
    "import numpy as np\n",
    "import numpy.ma as ma\n",
    "import matplotlib.pyplot as plt\n",
    "from matplotlib.colors import LogNorm\n",
    "from matplotlib import gridspec\n",
    "from netCDF4 import Dataset\n",
    "from math import *\n",
    "import glob\n",
    "import string\n",
    "import re\n",
    "from datetime import date, time, datetime\n",
    "from pprint import pprint\n",
    "import sys,os\n",
    "import csv\n",
    "import pandas as pd\n",
    "import pickle\n",
    "import matplotlib.transforms as mtransforms\n"
   ]
  },
  {
   "cell_type": "markdown",
   "metadata": {},
   "source": [
    "Paths"
   ]
  },
  {
   "cell_type": "code",
   "execution_count": 65,
   "metadata": {
    "ExecuteTime": {
     "end_time": "2017-07-06T13:25:05.707860",
     "start_time": "2017-07-06T13:25:05.662056"
    },
    "collapsed": true,
    "hide_input": false,
    "run_control": {
     "frozen": false,
     "read_only": false
    }
   },
   "outputs": [],
   "source": [
    "# Add ../functions to system path\n",
    "currentpath = %pwd\n",
    "currentpath = str(currentpath)\n",
    "##-- In a python script do the following instead:\n",
    "##-- currentpath = os.path.dirname(os.path.realpath(__file__))\n",
    "sys.path.insert(0,currentpath[:currentpath.rfind('/')+1]+'functions')\n",
    "\n",
    "## Fixed data files input directory\n",
    "inputdir_fx = '/Users/bfildier/Data/preprocessed/allExperiments/fx'\n",
    "## Dataframe input directory\n",
    "# resultdir = os.path.join(os.path.dirname(currentpath),'results')\n",
    "resultdir = os.path.join(os.path.dirname(currentpath),'results/fullResults')\n",
    "local_resultdir = os.path.join(os.path.dirname(currentpath),'results')\n",
    "## Maps (2D tropical data files) input directory\n",
    "inputdir_maps = os.path.join(os.path.dirname(currentpath),'inputs/forMaps')\n",
    "\n",
    "##-- Output directories --##\n",
    "## Figures\n",
    "figdir = os.path.join(os.path.dirname(currentpath),'figures/fullResults')\n"
   ]
  },
  {
   "cell_type": "markdown",
   "metadata": {
    "hide_input": false
   },
   "source": [
    "Graphical parameters"
   ]
  },
  {
   "cell_type": "code",
   "execution_count": 4,
   "metadata": {
    "ExecuteTime": {
     "end_time": "2017-07-06T11:42:33.251770",
     "start_time": "2017-07-06T11:42:33.206505"
    },
    "collapsed": false,
    "hide_input": false,
    "run_control": {
     "frozen": false,
     "read_only": false
    }
   },
   "outputs": [],
   "source": [
    "###--- Set up graphical parameters ---###\n",
    "\n",
    "##-- Figure setup --##\n",
    "plt.rcParams.update({'axes.labelsize': 'x-large',\n",
    "                     'axes.titlesize': 'x-large',\n",
    "                     'xtick.labelsize': 'large',\n",
    "                     'ytick.labelsize': 'large',\n",
    "                     'figure.titlesize': 'xx-large',\n",
    "                     'figure.subplot.top': '0.87',\n",
    "                     'figure.subplot.wspace': '0.3',\n",
    "                     'figure.subplot.hspace': '0.3',\n",
    "                     'legend.fontsize':'medium'})\n",
    "\n",
    "##-- Load colors for plots --##\n",
    "colorfile = os.path.join(currentpath,'colorsAndTypes.pickle')\n",
    "with open(colorfile,'rb') as handle:\n",
    "    col = pickle.load(handle)\n",
    "    lt = pickle.load(handle)\n",
    "    pal = pickle.load(handle)\n",
    "    lw = pickle.load(handle)\n",
    "    dashes = pickle.load(handle)\n",
    "    mark = pickle.load(handle)\n",
    "    cmaps = pickle.load(handle)"
   ]
  },
  {
   "cell_type": "markdown",
   "metadata": {},
   "source": [
    "Own modules and functions"
   ]
  },
  {
   "cell_type": "code",
   "execution_count": 6,
   "metadata": {
    "ExecuteTime": {
     "end_time": "2017-07-06T11:43:22.355295",
     "start_time": "2017-07-06T11:43:22.328970"
    },
    "collapsed": true,
    "hide_input": false,
    "run_control": {
     "frozen": false,
     "read_only": false
    }
   },
   "outputs": [],
   "source": [
    "from importingData import *\n",
    "from extremeScaling import *\n",
    "from thermodynamics import *\n",
    "from thermo_funcs import *\n",
    "from thermo_constants import *"
   ]
  },
  {
   "cell_type": "markdown",
   "metadata": {
    "hide_input": false
   },
   "source": [
    "Global variables and datasets"
   ]
  },
  {
   "cell_type": "code",
   "execution_count": 7,
   "metadata": {
    "ExecuteTime": {
     "end_time": "2017-07-06T12:16:47.518533",
     "start_time": "2017-07-06T12:16:47.157924"
    },
    "collapsed": true,
    "hide_input": false,
    "run_control": {
     "frozen": false,
     "read_only": false
    }
   },
   "outputs": [],
   "source": [
    "###--- Datasets ---###\n",
    "\n",
    "## Dataset parameter sets and variable sets\n",
    "compsets = (\"FSPCAMm_AMIP\",\"FAMIPC5\")\n",
    "experiments = (\"piControl\",\"abrupt4xCO2\")\n",
    "subsets = (\"tropics\",\"ocean\",\"land\",\"mfzero\")\n",
    "subsets_for_comp = dict(zip(compsets,(subsets,subsets[:-1])))\n",
    "\n",
    "## Individual names\n",
    "compset_SPCAM, compset_CAM5 = compsets\n",
    "experiment_PI, experiment_4xCO2 = experiments\n",
    "subset_all, subset_ocean, subset_land, subset_mf = subsets\n",
    "\n",
    "\n",
    "##--- Related to scaling ---##\n",
    "\n",
    "## Simulation vs. pr scaling\n",
    "pr_types = [\"simulated\",\"scaling\"]\n",
    "## Contributions to fractional changes\n",
    "# contributions = [\"mass\",\"thermo\",\"dyn_mean\",\"dyn_profile\",\"pressure\",\"non_linear\",\"all\"]\n",
    "# contributions_labs = [\"Mass\",\"Thermodynamic\",r\"Mass flux\",r\"Profile shift\",\"Pressure\",\"Non linear\",\"Sum\"]\n",
    "contributions = [\"thermo\",\"dyn_mean\",\"dyn_mean_th\",\"dyn_mean_dyn\",\"dyn_profile\",\"non_linear\",\"all\"]\n",
    "contributions_labs = [\"Thermodynamic\",r\"Mass flux\",r\"Mass flux ($\\Delta \\rho$)\",r\"Mass flux ($\\Delta w$)\",\n",
    "                      r\"Profile shift\",\"Non linear\",\"Sum\"]\n",
    "contributions_labels = dict(zip(contributions,contributions_labs))\n",
    "\n",
    "###--- Variables ids ---###\n",
    "\n",
    "## All pr ids\n",
    "pr_ids = [\"PRECT\",\"CRM_PREC_I90\",\"CRM_PREC_I75\",\"CRM_PREC_I50\",\"CRM_PREC_I25\",\"CRM_PREC_I10\"]\n",
    "gcm_pr_id = pr_ids[0]\n",
    "crm_pr_ids = pr_ids[1:]\n",
    "pr_ids_for_compset = {compsets[0]:pr_ids, compsets[1]:[gcm_pr_id]}\n",
    "\n",
    "area_id_root = \"PRECAREA_\"\n",
    "area_ids = [area_id_root+crm_pr_id.split('_')[-1] for crm_pr_id in crm_pr_ids]\n",
    "\n",
    "frac_id_root = \"PRECFRAC_\"\n",
    "frac_ids = [frac_id_root+crm_pr_id.split('_')[-1] for crm_pr_id in crm_pr_ids]\n",
    "\n",
    "## Define IDs of variables required for plotting profiles\n",
    "varids_for_profiles = {\"PRECT\":('PS','T','Q','RELHUM','OMEGA','W')}\n",
    "for f in [90,75,50,25,10]:\n",
    "#     varids_for_profiles[\"CRM_PREC_I%s\"%str(f)] = ('PS','CRM_T_I%s'%str(f),'CRM_QC_I%s'%str(f),'CRM_H_I%s'%str(f),\n",
    "#                                            'CRM_OMEGA_I%s'%str(f),'CRM_W_I%s'%str(f))\n",
    "    varids_for_profiles[\"CRM_PREC_I%s\"%str(f)] = ('PS','CRM_T_I%s'%str(f),'Q','CRM_H_I%s'%str(f),\n",
    "                                           'CRM_OMEGA_I%s'%str(f),'CRM_W_I%s'%str(f))\n",
    "\n",
    "## Define IDs of variables required for computing scaling\n",
    "varids_for_scaling = {\"PRECT\":('PS','T','OMEGA','W')}\n",
    "varids_for_scaling_updrafts = {\"PRECT\":('PS','T','OMEGA','W')}\n",
    "for f in [90,75,50,25,10]:\n",
    "    varids_for_scaling[\"CRM_PREC_I%s\"%str(f)] = ('PS','CRM_T_I%s'%str(f),'CRM_OMEGA_I%s'%str(f),'CRM_W_I%s'%str(f))\n",
    "    varids_for_scaling_updrafts[\"CRM_PREC_I%s\"%str(f)] = ('PS','CRM_T_I%s'%str(f),'CRM_OMEGA_I%s'%str(f),'CRM_WUP_I%s'%str(f))\n",
    "\n",
    "## Define percentile values\n",
    "Q_IL_ext = np.array([90.0, 92.0567, 93.6904, 94.9881, 96.0189, 96.8377, 97.4881, 98.0047, 98.4151, 98.7411,\n",
    "        99.0, 99.2057, 99.369, 99.4988, 99.6019, 99.6838, 99.7488, 99.8005, 99.8415, 99.8741,\n",
    "        99.9, 99.9206, 99.9369, 99.9499, 99.9602, 99.9684, 99.9749, 99.98, 99.9842, 99.9874,\n",
    "        99.99, 99.9921, 99.9937, 99.995, 99.996, 99.9968, 99.9975, 99.998, 99.9984, 99.9987,99.999])\n",
    "Qs = [90.,96.8377,99.,99.6838,99.9,99.9684,99.99,99.9968]\n",
    "Q_ids = ['90.0','96.8377','99.0','99.6838','99.9','99.9684','99.99','99.9968']\n",
    "\n",
    "###--- Legends, titles and labels ---###\n",
    "    \n",
    "## Corresponding legend labels\n",
    "compset_labs = [\"SPCAM\",\"CAM5\"]\n",
    "compset_labels = dict(zip(compsets,compset_labs))\n",
    "\n",
    "exp_labs = [\"Pre-industrial\",\"4xCO2\"]\n",
    "exp_labels = dict(zip(experiments,exp_labs))\n",
    "\n",
    "subset_labs = [\"Tropics\",\"Tropical oceans\",\"Tropical land\",\"Zero mass flux\"]\n",
    "subset_labels = dict(zip(subsets,subset_labs))\n",
    "\n",
    "pr_labs = [r\"$P(GCM)$\",r\"$P(CRM)$ largest $90\\%$\",r\"$P(CRM)$ largest $75\\%$\",r\"$P(CRM)$ largest $50\\%$\",\n",
    "             r\"$P(CRM)$ largest $25\\%$\",r\"$P(CRM)$ largest $10\\%$\"]\n",
    "pr_labels = dict(zip(pr_ids,pr_labs))\n",
    "pr_labs_short = [r\"$P(GCM)$\",r\"${\\left[P(CRM)\\right]}^{90\\%}$\",r\"${\\left[P(CRM)\\right]}^{75\\%}$\",\n",
    "                 r\"${\\left[P(CRM)\\right]}^{50\\%}$\",\n",
    "             r\"${\\left[P(CRM)\\right]}^{25\\%}$\",r\"${\\left[P(CRM)\\right]}^{10\\%}$\"]\n",
    "pr_labels_short = dict(zip(pr_ids,pr_labs_short))\n",
    "pr_labs_veryshort = [r\"$P_{GCM}$\",r\"$P_{CRM}^{90\\%}$\",r\"$P_{CRM}^{75\\%}$\",\n",
    "                 r\"$P_{CRM}^{50\\%}$\",r\"$P_{CRM}^{25\\%}$\",r\"$P_{CRM}^{10\\%}$\"]\n",
    "pr_labels_veryshort = dict(zip(pr_ids,pr_labs_veryshort))\n",
    "pr_labs_vvshort = [r\"$P_{GCM}$\",r\"$P_{CRM}$\",r\"$P_{CRM}$\",r\"$P_{CRM}$\",r\"$P_{CRM}$\",r\"$P_{CRM}$\"]\n",
    "pr_labels_vvshort = dict(zip(pr_ids,pr_labs_vvshort))\n",
    "\n",
    "\n",
    "###--- Results and others ---###\n",
    "\n",
    "## Vertical pressure coordinate function\n",
    "lev_file = 'lev_fx_CESM111-SPCAM20_allExperiments_r0i0p0.nc'\n",
    "computeP = getPressureCoordinateFunction(os.path.join(inputdir_fx,lev_file))\n",
    "\n",
    "# ## Import all dataframes\n",
    "# df_quantile = getStatDataFrame(\"pr_quantile_IL\",compsets,experiments,subsets,resultdir)\n",
    "# df_density2D = getStatDataFrame(\"pr_jointDensity_IL\",compsets,experiments,subsets,resultdir)\n",
    "# df_mean = getStatDataFrame(\"var2D_mean\",compsets,experiments,subsets,resultdir)\n",
    "# df_meanProfile = getStatDataFrame(\"var3D_meanProfile\",compsets,experiments,subsets,resultdir)\n",
    "# df_meanAtQ = getStatDataFrame(\"var2D_meanAtQ\",compsets,experiments,subsets,resultdir)\n",
    "# df_meanProfileAtQ = getStatDataFrame(\"var3D_meanProfileAtQ\",compsets,experiments,subsets,resultdir)"
   ]
  },
  {
   "cell_type": "markdown",
   "metadata": {},
   "source": [
    "# Merge dataframes"
   ]
  },
  {
   "cell_type": "markdown",
   "metadata": {},
   "source": [
    "## In the format of computeMeanProfileAtQuantile.py"
   ]
  },
  {
   "cell_type": "markdown",
   "metadata": {},
   "source": [
    "Open a dataframe as created by computeMeanProfileAtQuantile"
   ]
  },
  {
   "cell_type": "code",
   "execution_count": 154,
   "metadata": {
    "ExecuteTime": {
     "end_time": "2017-07-06T16:12:10.585022",
     "start_time": "2017-07-06T16:12:09.907362"
    },
    "collapsed": false,
    "hide_input": true
   },
   "outputs": [
    {
     "name": "stdout",
     "output_type": "stream",
     "text": [
      "Open file: var3D_meanProfileAtQ_FSPCAMm_AMIP_piControl_tropics.csv\n"
     ]
    }
   ],
   "source": [
    "stat = \"var3D_meanProfileAtQ\"\n",
    "compset = compset_SPCAM\n",
    "experiment = experiment_PI\n",
    "subset = subset_all\n",
    "csvfile = \"%s_%s_%s_%s.csv\"%(stat,compset,experiment,subset)\n",
    "print \"Open file:\", csvfile\n",
    "df = pd.read_csv(os.path.join(local_resultdir,csvfile),\n",
    "                header=[0,1,2], skipinitialspace=True)\n",
    "# df = pd.read_csv(os.path.join(resultdir,csvfile),\n",
    "#                 header=[0,1,2], skipinitialspace=True)"
   ]
  },
  {
   "cell_type": "markdown",
   "metadata": {},
   "source": [
    "Explore it a little bit"
   ]
  },
  {
   "cell_type": "code",
   "execution_count": 155,
   "metadata": {
    "ExecuteTime": {
     "end_time": "2017-07-06T16:12:10.762276",
     "start_time": "2017-07-06T16:12:10.604228"
    },
    "collapsed": false,
    "hide_input": false,
    "scrolled": false
   },
   "outputs": [
    {
     "name": "stdout",
     "output_type": "stream",
     "text": [
      "index RangeIndex(start=0, stop=30, step=1)\n",
      "columns [[u'CRM_QC_I10', u'CRM_QC_I25', u'CRM_QC_I50', u'CRM_QC_I75', u'CRM_QC_I90', u'CRM_QPC_I10', u'CRM_QPC_I25', u'CRM_QPC_I50', u'CRM_QPC_I75', u'CRM_QPC_I90', u'CRM_T_I10', u'CRM_T_I25', u'CRM_T_I50', u'CRM_T_I75', u'CRM_T_I90', u'CRM_W_I10', u'CRM_W_I25', u'CRM_W_I50', u'CRM_W_I75', u'CRM_W_I90', u'EVAPPREC', u'FU', u'FV', u'OMEGA', u'PDELDRY', u'Q', u'RELHUM', u'SPMC', u'SPMCUP', u'T', u'U', u'Unnamed: 0_level_0', u'V'], [u'CRM_PREC_I10', u'CRM_PREC_I25', u'CRM_PREC_I50', u'CRM_PREC_I75', u'CRM_PREC_I90', u'PRECT', u'Unnamed: 0_level_1'], [u'90.0', u'92.0567', u'93.6904', u'94.9881', u'96.0189', u'96.8377', u'97.4881', u'98.0047', u'98.4151', u'98.7411', u'99.0', u'99.2057', u'99.369', u'99.4988', u'99.6019', u'99.6838', u'99.7488', u'99.8005', u'99.8415', u'Unnamed: 0_level_2']]\n",
      "3\n"
     ]
    },
    {
     "ename": "KeyError",
     "evalue": "'CRM_OMEGA_I50'",
     "output_type": "error",
     "traceback": [
      "\u001b[0;31m---------------------------------------------------------------------------\u001b[0m",
      "\u001b[0;31mKeyError\u001b[0m                                  Traceback (most recent call last)",
      "\u001b[0;32m<ipython-input-155-e06c298f8e10>\u001b[0m in \u001b[0;36m<module>\u001b[0;34m()\u001b[0m\n\u001b[1;32m      5\u001b[0m \u001b[0;32mprint\u001b[0m \u001b[0mlen\u001b[0m\u001b[0;34m(\u001b[0m\u001b[0mdf_levels\u001b[0m\u001b[0;34m)\u001b[0m\u001b[0;34m\u001b[0m\u001b[0m\n\u001b[1;32m      6\u001b[0m \u001b[0;31m# print df\u001b[0m\u001b[0;34m\u001b[0m\u001b[0;34m\u001b[0m\u001b[0m\n\u001b[0;32m----> 7\u001b[0;31m \u001b[0;32mprint\u001b[0m \u001b[0mtype\u001b[0m\u001b[0;34m(\u001b[0m\u001b[0mdf\u001b[0m\u001b[0;34m[\u001b[0m\u001b[0;34m'CRM_OMEGA_I50'\u001b[0m\u001b[0;34m]\u001b[0m\u001b[0;34m)\u001b[0m\u001b[0;34m,\u001b[0m \u001b[0mtype\u001b[0m\u001b[0;34m(\u001b[0m\u001b[0mdf\u001b[0m\u001b[0;34m[\u001b[0m\u001b[0;34m'CRM_OMEGA_I50'\u001b[0m\u001b[0;34m]\u001b[0m\u001b[0;34m[\u001b[0m\u001b[0;34m'CRM_PREC_I50'\u001b[0m\u001b[0;34m]\u001b[0m\u001b[0;34m)\u001b[0m\u001b[0;34m,\u001b[0m \u001b[0mtype\u001b[0m\u001b[0;34m(\u001b[0m\u001b[0mdf\u001b[0m\u001b[0;34m[\u001b[0m\u001b[0;34m'CRM_OMEGA_I50'\u001b[0m\u001b[0;34m]\u001b[0m\u001b[0;34m[\u001b[0m\u001b[0;34m'CRM_PREC_I50'\u001b[0m\u001b[0;34m]\u001b[0m\u001b[0;34m[\u001b[0m\u001b[0;34m'99.0'\u001b[0m\u001b[0;34m]\u001b[0m\u001b[0;34m)\u001b[0m\u001b[0;34m\u001b[0m\u001b[0m\n\u001b[0m\u001b[1;32m      8\u001b[0m \u001b[0;32mprint\u001b[0m \u001b[0;34m\"df['CRM_OMEGA_I50']['CRM_PREC_I50'][-2:] :\"\u001b[0m\u001b[0;34m,\u001b[0m\u001b[0mdf\u001b[0m\u001b[0;34m[\u001b[0m\u001b[0;34m'CRM_OMEGA_I50'\u001b[0m\u001b[0;34m]\u001b[0m\u001b[0;34m[\u001b[0m\u001b[0;34m'CRM_PREC_I50'\u001b[0m\u001b[0;34m]\u001b[0m\u001b[0;34m[\u001b[0m\u001b[0;34m-\u001b[0m\u001b[0;36m2\u001b[0m\u001b[0;34m:\u001b[0m\u001b[0;34m]\u001b[0m\u001b[0;34m\u001b[0m\u001b[0m\n\u001b[1;32m      9\u001b[0m \u001b[0;34m\u001b[0m\u001b[0m\n",
      "\u001b[0;32m/Users/bfildier/anaconda/lib/python2.7/site-packages/pandas/core/frame.pyc\u001b[0m in \u001b[0;36m__getitem__\u001b[0;34m(self, key)\u001b[0m\n\u001b[1;32m   1993\u001b[0m             \u001b[0;32mreturn\u001b[0m \u001b[0mself\u001b[0m\u001b[0;34m.\u001b[0m\u001b[0m_getitem_frame\u001b[0m\u001b[0;34m(\u001b[0m\u001b[0mkey\u001b[0m\u001b[0;34m)\u001b[0m\u001b[0;34m\u001b[0m\u001b[0m\n\u001b[1;32m   1994\u001b[0m         \u001b[0;32melif\u001b[0m \u001b[0mis_mi_columns\u001b[0m\u001b[0;34m:\u001b[0m\u001b[0;34m\u001b[0m\u001b[0m\n\u001b[0;32m-> 1995\u001b[0;31m             \u001b[0;32mreturn\u001b[0m \u001b[0mself\u001b[0m\u001b[0;34m.\u001b[0m\u001b[0m_getitem_multilevel\u001b[0m\u001b[0;34m(\u001b[0m\u001b[0mkey\u001b[0m\u001b[0;34m)\u001b[0m\u001b[0;34m\u001b[0m\u001b[0m\n\u001b[0m\u001b[1;32m   1996\u001b[0m         \u001b[0;32melse\u001b[0m\u001b[0;34m:\u001b[0m\u001b[0;34m\u001b[0m\u001b[0m\n\u001b[1;32m   1997\u001b[0m             \u001b[0;32mreturn\u001b[0m \u001b[0mself\u001b[0m\u001b[0;34m.\u001b[0m\u001b[0m_getitem_column\u001b[0m\u001b[0;34m(\u001b[0m\u001b[0mkey\u001b[0m\u001b[0;34m)\u001b[0m\u001b[0;34m\u001b[0m\u001b[0m\n",
      "\u001b[0;32m/Users/bfildier/anaconda/lib/python2.7/site-packages/pandas/core/frame.pyc\u001b[0m in \u001b[0;36m_getitem_multilevel\u001b[0;34m(self, key)\u001b[0m\n\u001b[1;32m   2037\u001b[0m \u001b[0;34m\u001b[0m\u001b[0m\n\u001b[1;32m   2038\u001b[0m     \u001b[0;32mdef\u001b[0m \u001b[0m_getitem_multilevel\u001b[0m\u001b[0;34m(\u001b[0m\u001b[0mself\u001b[0m\u001b[0;34m,\u001b[0m \u001b[0mkey\u001b[0m\u001b[0;34m)\u001b[0m\u001b[0;34m:\u001b[0m\u001b[0;34m\u001b[0m\u001b[0m\n\u001b[0;32m-> 2039\u001b[0;31m         \u001b[0mloc\u001b[0m \u001b[0;34m=\u001b[0m \u001b[0mself\u001b[0m\u001b[0;34m.\u001b[0m\u001b[0mcolumns\u001b[0m\u001b[0;34m.\u001b[0m\u001b[0mget_loc\u001b[0m\u001b[0;34m(\u001b[0m\u001b[0mkey\u001b[0m\u001b[0;34m)\u001b[0m\u001b[0;34m\u001b[0m\u001b[0m\n\u001b[0m\u001b[1;32m   2040\u001b[0m         \u001b[0;32mif\u001b[0m \u001b[0misinstance\u001b[0m\u001b[0;34m(\u001b[0m\u001b[0mloc\u001b[0m\u001b[0;34m,\u001b[0m \u001b[0;34m(\u001b[0m\u001b[0mslice\u001b[0m\u001b[0;34m,\u001b[0m \u001b[0mSeries\u001b[0m\u001b[0;34m,\u001b[0m \u001b[0mnp\u001b[0m\u001b[0;34m.\u001b[0m\u001b[0mndarray\u001b[0m\u001b[0;34m,\u001b[0m \u001b[0mIndex\u001b[0m\u001b[0;34m)\u001b[0m\u001b[0;34m)\u001b[0m\u001b[0;34m:\u001b[0m\u001b[0;34m\u001b[0m\u001b[0m\n\u001b[1;32m   2041\u001b[0m             \u001b[0mnew_columns\u001b[0m \u001b[0;34m=\u001b[0m \u001b[0mself\u001b[0m\u001b[0;34m.\u001b[0m\u001b[0mcolumns\u001b[0m\u001b[0;34m[\u001b[0m\u001b[0mloc\u001b[0m\u001b[0;34m]\u001b[0m\u001b[0;34m\u001b[0m\u001b[0m\n",
      "\u001b[0;32m/Users/bfildier/anaconda/lib/python2.7/site-packages/pandas/indexes/multi.pyc\u001b[0m in \u001b[0;36mget_loc\u001b[0;34m(self, key, method)\u001b[0m\n\u001b[1;32m   1547\u001b[0m \u001b[0;34m\u001b[0m\u001b[0m\n\u001b[1;32m   1548\u001b[0m         \u001b[0;32mif\u001b[0m \u001b[0;32mnot\u001b[0m \u001b[0misinstance\u001b[0m\u001b[0;34m(\u001b[0m\u001b[0mkey\u001b[0m\u001b[0;34m,\u001b[0m \u001b[0mtuple\u001b[0m\u001b[0;34m)\u001b[0m\u001b[0;34m:\u001b[0m\u001b[0;34m\u001b[0m\u001b[0m\n\u001b[0;32m-> 1549\u001b[0;31m             \u001b[0mloc\u001b[0m \u001b[0;34m=\u001b[0m \u001b[0mself\u001b[0m\u001b[0;34m.\u001b[0m\u001b[0m_get_level_indexer\u001b[0m\u001b[0;34m(\u001b[0m\u001b[0mkey\u001b[0m\u001b[0;34m,\u001b[0m \u001b[0mlevel\u001b[0m\u001b[0;34m=\u001b[0m\u001b[0;36m0\u001b[0m\u001b[0;34m)\u001b[0m\u001b[0;34m\u001b[0m\u001b[0m\n\u001b[0m\u001b[1;32m   1550\u001b[0m             \u001b[0;32mreturn\u001b[0m \u001b[0m_maybe_to_slice\u001b[0m\u001b[0;34m(\u001b[0m\u001b[0mloc\u001b[0m\u001b[0;34m)\u001b[0m\u001b[0;34m\u001b[0m\u001b[0m\n\u001b[1;32m   1551\u001b[0m \u001b[0;34m\u001b[0m\u001b[0m\n",
      "\u001b[0;32m/Users/bfildier/anaconda/lib/python2.7/site-packages/pandas/indexes/multi.pyc\u001b[0m in \u001b[0;36m_get_level_indexer\u001b[0;34m(self, key, level, indexer)\u001b[0m\n\u001b[1;32m   1808\u001b[0m         \u001b[0;32melse\u001b[0m\u001b[0;34m:\u001b[0m\u001b[0;34m\u001b[0m\u001b[0m\n\u001b[1;32m   1809\u001b[0m \u001b[0;34m\u001b[0m\u001b[0m\n\u001b[0;32m-> 1810\u001b[0;31m             \u001b[0mloc\u001b[0m \u001b[0;34m=\u001b[0m \u001b[0mlevel_index\u001b[0m\u001b[0;34m.\u001b[0m\u001b[0mget_loc\u001b[0m\u001b[0;34m(\u001b[0m\u001b[0mkey\u001b[0m\u001b[0;34m)\u001b[0m\u001b[0;34m\u001b[0m\u001b[0m\n\u001b[0m\u001b[1;32m   1811\u001b[0m             \u001b[0;32mif\u001b[0m \u001b[0mlevel\u001b[0m \u001b[0;34m>\u001b[0m \u001b[0;36m0\u001b[0m \u001b[0;32mor\u001b[0m \u001b[0mself\u001b[0m\u001b[0;34m.\u001b[0m\u001b[0mlexsort_depth\u001b[0m \u001b[0;34m==\u001b[0m \u001b[0;36m0\u001b[0m\u001b[0;34m:\u001b[0m\u001b[0;34m\u001b[0m\u001b[0m\n\u001b[1;32m   1812\u001b[0m                 \u001b[0;32mreturn\u001b[0m \u001b[0mnp\u001b[0m\u001b[0;34m.\u001b[0m\u001b[0marray\u001b[0m\u001b[0;34m(\u001b[0m\u001b[0mlabels\u001b[0m \u001b[0;34m==\u001b[0m \u001b[0mloc\u001b[0m\u001b[0;34m,\u001b[0m \u001b[0mdtype\u001b[0m\u001b[0;34m=\u001b[0m\u001b[0mbool\u001b[0m\u001b[0;34m)\u001b[0m\u001b[0;34m\u001b[0m\u001b[0m\n",
      "\u001b[0;32m/Users/bfildier/anaconda/lib/python2.7/site-packages/pandas/indexes/base.pyc\u001b[0m in \u001b[0;36mget_loc\u001b[0;34m(self, key, method, tolerance)\u001b[0m\n\u001b[1;32m   1945\u001b[0m                 \u001b[0;32mreturn\u001b[0m \u001b[0mself\u001b[0m\u001b[0;34m.\u001b[0m\u001b[0m_engine\u001b[0m\u001b[0;34m.\u001b[0m\u001b[0mget_loc\u001b[0m\u001b[0;34m(\u001b[0m\u001b[0mkey\u001b[0m\u001b[0;34m)\u001b[0m\u001b[0;34m\u001b[0m\u001b[0m\n\u001b[1;32m   1946\u001b[0m             \u001b[0;32mexcept\u001b[0m \u001b[0mKeyError\u001b[0m\u001b[0;34m:\u001b[0m\u001b[0;34m\u001b[0m\u001b[0m\n\u001b[0;32m-> 1947\u001b[0;31m                 \u001b[0;32mreturn\u001b[0m \u001b[0mself\u001b[0m\u001b[0;34m.\u001b[0m\u001b[0m_engine\u001b[0m\u001b[0;34m.\u001b[0m\u001b[0mget_loc\u001b[0m\u001b[0;34m(\u001b[0m\u001b[0mself\u001b[0m\u001b[0;34m.\u001b[0m\u001b[0m_maybe_cast_indexer\u001b[0m\u001b[0;34m(\u001b[0m\u001b[0mkey\u001b[0m\u001b[0;34m)\u001b[0m\u001b[0;34m)\u001b[0m\u001b[0;34m\u001b[0m\u001b[0m\n\u001b[0m\u001b[1;32m   1948\u001b[0m \u001b[0;34m\u001b[0m\u001b[0m\n\u001b[1;32m   1949\u001b[0m         \u001b[0mindexer\u001b[0m \u001b[0;34m=\u001b[0m \u001b[0mself\u001b[0m\u001b[0;34m.\u001b[0m\u001b[0mget_indexer\u001b[0m\u001b[0;34m(\u001b[0m\u001b[0;34m[\u001b[0m\u001b[0mkey\u001b[0m\u001b[0;34m]\u001b[0m\u001b[0;34m,\u001b[0m \u001b[0mmethod\u001b[0m\u001b[0;34m=\u001b[0m\u001b[0mmethod\u001b[0m\u001b[0;34m,\u001b[0m \u001b[0mtolerance\u001b[0m\u001b[0;34m=\u001b[0m\u001b[0mtolerance\u001b[0m\u001b[0;34m)\u001b[0m\u001b[0;34m\u001b[0m\u001b[0m\n",
      "\u001b[0;32mpandas/index.pyx\u001b[0m in \u001b[0;36mpandas.index.IndexEngine.get_loc (pandas/index.c:4154)\u001b[0;34m()\u001b[0m\n",
      "\u001b[0;32mpandas/index.pyx\u001b[0m in \u001b[0;36mpandas.index.IndexEngine.get_loc (pandas/index.c:4018)\u001b[0;34m()\u001b[0m\n",
      "\u001b[0;32mpandas/hashtable.pyx\u001b[0m in \u001b[0;36mpandas.hashtable.PyObjectHashTable.get_item (pandas/hashtable.c:12368)\u001b[0;34m()\u001b[0m\n",
      "\u001b[0;32mpandas/hashtable.pyx\u001b[0m in \u001b[0;36mpandas.hashtable.PyObjectHashTable.get_item (pandas/hashtable.c:12322)\u001b[0;34m()\u001b[0m\n",
      "\u001b[0;31mKeyError\u001b[0m: 'CRM_OMEGA_I50'"
     ]
    }
   ],
   "source": [
    "print \"index\", df.index\n",
    "\n",
    "df_levels = df.columns.levels\n",
    "print \"columns\", df_levels\n",
    "print len(df_levels)\n",
    "# print df\n",
    "print type(df['CRM_OMEGA_I50']), type(df['CRM_OMEGA_I50']['CRM_PREC_I50']), type(df['CRM_OMEGA_I50']['CRM_PREC_I50']['99.0'])\n",
    "print \"df['CRM_OMEGA_I50']['CRM_PREC_I50'][-2:] :\",df['CRM_OMEGA_I50']['CRM_PREC_I50'][-2:]\n",
    "\n",
    "# print df.columns.lexsort_depth\n",
    "# df.sortlevel(axis=1,inplace=True)"
   ]
  },
  {
   "cell_type": "code",
   "execution_count": 87,
   "metadata": {
    "ExecuteTime": {
     "end_time": "2017-07-06T15:20:18.152759",
     "start_time": "2017-07-06T15:20:18.115812"
    },
    "collapsed": false,
    "hide_input": true
   },
   "outputs": [
    {
     "name": "stdout",
     "output_type": "stream",
     "text": [
      "Copy dataframe\n"
     ]
    }
   ],
   "source": [
    "print \"Copy dataframe\"\n",
    "df_new = df.copy()"
   ]
  },
  {
   "cell_type": "code",
   "execution_count": 151,
   "metadata": {
    "ExecuteTime": {
     "end_time": "2017-07-06T16:04:21.670760",
     "start_time": "2017-07-06T16:04:21.620573"
    },
    "collapsed": false,
    "hide_input": true,
    "scrolled": false
   },
   "outputs": [
    {
     "name": "stdout",
     "output_type": "stream",
     "text": [
      "[('CRM_OMEGA_I50', 'CRM_PREC_I50', '98.7411'), ('CRM_OMEGA_I50', 'CRM_PREC_I50', '99.2057'), ('Unnamed: 0_level_0', 'Unnamed: 0_level_1', 'Unnamed: 0_level_2'), ('CRM_OMEGA_I50', 'CRM_PREC_I50', '99.0'), ('varid', 'pr_id', 'Q_id'), ('CRM_OMEGA_I50', 'CRM_PREC_I50', '99.369'), ('CRM_OMEGA_I50', 'CRM_PREC_I50', '99.4988')]\n",
      "<class 'pandas.core.series.Series'> <class 'pandas.core.series.Series'>\n",
      "[Index([u'CRM_OMEGA_I50', u'Unnamed: 0_level_0', u'varid'], dtype='object')\n",
      " Index([u'CRM_PREC_I50', u'Unnamed: 0_level_1', u'pr_id'], dtype='object')\n",
      " Index([u'98.7411', u'99.0', u'99.2057', u'99.369', u'99.4988', u'Q_id',\n",
      "       u'Unnamed: 0_level_2'],\n",
      "      dtype='object')]\n",
      "[['NEWVAR_TEST']\n",
      " ['PRECT']\n",
      " ['99.995']]\n",
      "[ Index([u'CRM_OMEGA_I50', u'NEWVAR_TEST', u'Unnamed: 0_level_0', u'varid'], dtype='object')\n",
      " Index([u'CRM_PREC_I50', u'PRECT', u'Unnamed: 0_level_1', u'pr_id'], dtype='object')\n",
      " Index([u'98.7411', u'99.0', u'99.2057', u'99.369', u'99.4988', u'99.995',\n",
      "       u'Q_id', u'Unnamed: 0_level_2'],\n",
      "      dtype='object')]\n"
     ]
    }
   ],
   "source": [
    "dict_new = dict(df)\n",
    "print dict_new.keys()[:10]\n",
    "# dict_new[('NEWVAR_TEST','PRECT','99.995')] = dict_new[('CRM_OMEGA_I50', 'CRM_PREC_I50', '99.0')].copy()\n",
    "dict_new_2 = {('NEWVAR_TEST','PRECT','99.995'):dict_new[('CRM_OMEGA_I50', 'CRM_PREC_I50', '99.0')].copy()}\n",
    "print type(dict_new[('CRM_OMEGA_I50', 'CRM_PREC_I50', '99.0')]), type(dict_new_2[('NEWVAR_TEST','PRECT','99.995')])\n",
    "dict_merged = dict_new.copy()\n",
    "# for key in dict_new_2.keys():\n",
    "#     if \"Unnamed\" in string.join(key,''):\n",
    "#         dict_new_2.pop(key,None)\n",
    "# for key in dict_merged.keys():\n",
    "#     if \"Unnamed\" in string.join(key,''):\n",
    "#         dict_merged.pop(key,None)\n",
    "dict_merged.update(dict_new_2)\n",
    "# Convert to dataframes\n",
    "df_new_2 = pd.DataFrame(dict_new_2)\n",
    "df_new = pd.DataFrame(dict_new)\n",
    "df_merged = pd.DataFrame(dict_merged)\n",
    "# Compate\n",
    "print np.array(df_new.columns.levels)\n",
    "print np.array(df_new_2.columns.levels)\n",
    "print np.array(df_merged.columns.levels)\n",
    "# print df_new['NEWVAR_TEST']"
   ]
  },
  {
   "cell_type": "code",
   "execution_count": 117,
   "metadata": {
    "ExecuteTime": {
     "end_time": "2017-07-06T15:42:56.735533",
     "start_time": "2017-07-06T15:42:56.682772"
    },
    "collapsed": false
   },
   "outputs": [
    {
     "name": "stdout",
     "output_type": "stream",
     "text": [
      "   NEWVAR_TEST\n",
      "         PRECT\n",
      "        99.995\n",
      "0     0.000000\n",
      "1     0.003526\n",
      "2     0.008529\n",
      "3     0.009783\n",
      "4    -0.004921\n",
      "5    -0.064853\n",
      "6    -0.185703\n",
      "7    -0.327109\n",
      "8    -0.633003\n",
      "9    -1.040630\n",
      "10   -1.853387\n",
      "11   -2.204890\n",
      "12   -1.806084\n",
      "13   -1.360950\n",
      "14   -1.116030\n",
      "15   -0.881517\n",
      "16   -0.834936\n",
      "17   -0.649643\n",
      "18   -0.328893\n",
      "19   -0.103114\n",
      "20   -0.032754\n",
      "21    0.009055\n",
      "22   -0.038939\n",
      "23   -0.042699\n",
      "24    0.074669\n",
      "25   -0.057368\n",
      "26   -0.006835\n",
      "27   -0.060250\n",
      "28    0.031979\n",
      "29   -0.010609\n",
      "   CRM_OMEGA_I50                                                    \\\n",
      "    CRM_PREC_I50                                                     \n",
      "            99.0   99.2057    99.369   99.4988   99.8005   99.8415   \n",
      "0       0.000000  0.000000  0.000000  0.000000  0.000000  0.000000   \n",
      "1       0.003526  0.005386  0.009278  0.006220  0.001118 -0.001314   \n",
      "2       0.008529  0.013145  0.026811  0.018582 -0.000880 -0.006805   \n",
      "3       0.009783  0.020349  0.050117  0.033808 -0.013988 -0.024372   \n",
      "4      -0.004921  0.010228  0.055970  0.037191 -0.059549 -0.073358   \n",
      "5      -0.064853 -0.046041 -0.000201 -0.000241 -0.166575 -0.197256   \n",
      "6      -0.185703 -0.178840 -0.175005 -0.136791 -0.346748 -0.398794   \n",
      "7      -0.327109 -0.298607 -0.349981 -0.334412 -0.518955 -0.621816   \n",
      "8      -0.633003 -0.539883 -0.753732 -0.778132 -0.834540 -0.960070   \n",
      "9      -1.040630 -0.983425 -1.441736 -1.462289 -1.496654 -1.600627   \n",
      "10     -1.853387 -1.738697 -2.451709 -2.161994 -2.604356 -2.426254   \n",
      "11     -2.204890 -2.389657 -2.405139 -2.745672 -3.242193 -3.509332   \n",
      "12     -1.806084 -1.978087 -1.428674 -2.381121 -2.098874 -2.709109   \n",
      "13     -1.360950 -1.696036 -1.495076 -1.914281 -0.930823 -1.300702   \n",
      "14     -1.116030 -1.275060 -0.546651 -1.550298 -0.653084 -0.724928   \n",
      "15     -0.881517 -1.244974 -0.635336 -1.124477 -0.525933 -0.683600   \n",
      "16     -0.834936 -1.106897 -0.587973 -0.889503 -0.338859 -0.657871   \n",
      "17     -0.649643 -0.868111 -0.367600 -0.767055 -0.168418 -0.453925   \n",
      "18     -0.328893 -0.587213 -0.174466 -0.482081 -0.141443 -0.126993   \n",
      "19     -0.103114 -0.084852 -0.097393 -0.403877  0.048182  0.384139   \n",
      "20     -0.032754  0.148310  0.122334 -0.046884 -0.005914  0.147557   \n",
      "21      0.009055  0.046686  0.137911  0.165439 -0.013569  0.500433   \n",
      "22     -0.038939 -0.079820  0.045397  0.134313 -0.011694 -0.819734   \n",
      "23     -0.042699 -0.037639  0.144831  0.040607  0.063432 -0.198207   \n",
      "24      0.074669  0.112483 -0.038741  0.090434 -0.053817 -0.297492   \n",
      "25     -0.057368 -0.023282 -0.024602 -0.164411  0.042031  0.622113   \n",
      "26     -0.006835 -0.090334  0.056660  0.100828 -0.028195 -0.381202   \n",
      "27     -0.060250  0.026589 -0.026245 -0.021297  0.008346  0.204214   \n",
      "28      0.031979 -0.008965 -0.013728 -0.017360  0.024924 -0.014379   \n",
      "29     -0.010609 -0.003051  0.005418  0.002223 -0.005116 -0.045459   \n",
      "\n",
      "   NEWVAR_TEST Unnamed: 0_level_0 varid  \n",
      "         PRECT Unnamed: 0_level_1 pr_id  \n",
      "        99.995 Unnamed: 0_level_2  Q_id  \n",
      "0     0.000000                  0     0  \n",
      "1     0.003526                  1     1  \n",
      "2     0.008529                  2     2  \n",
      "3     0.009783                  3     3  \n",
      "4    -0.004921                  4     4  \n",
      "5    -0.064853                  5     5  \n",
      "6    -0.185703                  6     6  \n",
      "7    -0.327109                  7     7  \n",
      "8    -0.633003                  8     8  \n",
      "9    -1.040630                  9     9  \n",
      "10   -1.853387                 10    10  \n",
      "11   -2.204890                 11    11  \n",
      "12   -1.806084                 12    12  \n",
      "13   -1.360950                 13    13  \n",
      "14   -1.116030                 14    14  \n",
      "15   -0.881517                 15    15  \n",
      "16   -0.834936                 16    16  \n",
      "17   -0.649643                 17    17  \n",
      "18   -0.328893                 18    18  \n",
      "19   -0.103114                 19    19  \n",
      "20   -0.032754                 20    20  \n",
      "21    0.009055                 21    21  \n",
      "22   -0.038939                 22    22  \n",
      "23   -0.042699                 23    23  \n",
      "24    0.074669                 24    24  \n",
      "25   -0.057368                 25    25  \n",
      "26   -0.006835                 26    26  \n",
      "27   -0.060250                 27    27  \n",
      "28    0.031979                 28    28  \n",
      "29   -0.010609                 29    29  \n"
     ]
    }
   ],
   "source": [
    "# df_merged['CRM_OMEGA_I50']\n",
    "print df_new_2\n",
    "print df_merged"
   ]
  },
  {
   "cell_type": "code",
   "execution_count": 124,
   "metadata": {
    "ExecuteTime": {
     "end_time": "2017-07-06T15:47:25.090238",
     "start_time": "2017-07-06T15:47:25.058622"
    },
    "collapsed": false
   },
   "outputs": [
    {
     "name": "stdout",
     "output_type": "stream",
     "text": [
      "{1: 'a', 2: 'b', 3: 'c'} {3: \"c'\", 4: 'd'}\n",
      "{1: 'a', 2: 'b', 3: \"c'\", 4: 'd'}\n"
     ]
    }
   ],
   "source": [
    "d1 = dict(zip([1,2,3],['a','b','c']))\n",
    "d2 = dict(zip([3,4],['c\\'','d']))\n",
    "print d1, d2\n",
    "d1.update(d2)\n",
    "print d1"
   ]
  },
  {
   "cell_type": "code",
   "execution_count": null,
   "metadata": {
    "collapsed": true
   },
   "outputs": [],
   "source": []
  }
 ],
 "metadata": {
  "hide_input": true,
  "kernelspec": {
   "display_name": "Python 2",
   "language": "python",
   "name": "python2"
  },
  "language_info": {
   "codemirror_mode": {
    "name": "ipython",
    "version": 2
   },
   "file_extension": ".py",
   "mimetype": "text/x-python",
   "name": "python",
   "nbconvert_exporter": "python",
   "pygments_lexer": "ipython2",
   "version": "2.7.13"
  },
  "latex_envs": {
   "bibliofile": "biblio.bib",
   "cite_by": "apalike",
   "current_citInitial": 1,
   "eqLabelWithNumbers": true,
   "eqNumInitial": 0
  },
  "toc": {
   "toc_cell": true,
   "toc_number_sections": true,
   "toc_threshold": 6,
   "toc_window_display": false
  }
 },
 "nbformat": 4,
 "nbformat_minor": 0
}
