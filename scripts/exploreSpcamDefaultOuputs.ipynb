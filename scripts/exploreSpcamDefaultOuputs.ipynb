{
 "cells": [
  {
   "cell_type": "markdown",
   "metadata": {
    "toc": "true"
   },
   "source": [
    "# Table of Contents\n",
    " <p>"
   ]
  },
  {
   "cell_type": "code",
   "execution_count": 12,
   "metadata": {
    "ExecuteTime": {
     "end_time": "2016-11-01T08:49:49.380006",
     "start_time": "2016-11-01T08:49:49.320869"
    },
    "collapsed": false,
    "hide_input": false,
    "run_control": {
     "frozen": false,
     "read_only": false
    }
   },
   "outputs": [
    {
     "name": "stdout",
     "output_type": "stream",
     "text": [
      "The autoreload extension is already loaded. To reload it, use:\n",
      "  %reload_ext autoreload\n"
     ]
    },
    {
     "data": {
      "text/html": [
       "<style>.container { width:98% !important; }</style>"
      ],
      "text/plain": [
       "<IPython.core.display.HTML object>"
      ]
     },
     "metadata": {},
     "output_type": "display_data"
    }
   ],
   "source": [
    "%matplotlib inline\n",
    "%load_ext autoreload\n",
    "%autoreload 2\n",
    "\n",
    "from mpl_toolkits.basemap import Basemap\n",
    "import numpy as np\n",
    "import numpy.ma as ma\n",
    "import matplotlib.pyplot as plt\n",
    "from matplotlib.colors import LogNorm\n",
    "from netCDF4 import Dataset, MFDataset\n",
    "from math import *\n",
    "import glob\n",
    "import string\n",
    "from datetime import date, time, datetime\n",
    "from pprint import pprint\n",
    "import pandas as pd\n",
    "import sys,os\n",
    "import StringIO\n",
    "\n",
    "# Widen displayed cells\n",
    "from IPython.core.display import display, HTML\n",
    "display(HTML(\"<style>.container { width:98% !important; }</style>\"))\n",
    "\n",
    "# Add ../functions to system path\n",
    "currentpath = %pwd\n",
    "currentpath = str(currentpath)\n",
    "##-- In a python script do the following instead:\n",
    "##-- currentpath = os.path.dirname(os.path.realpath(__file__))\n",
    "sys.path.insert(0,currentpath[:currentpath.rfind('/')+1]+'functions')\n",
    "\n",
    "from plotting import *\n",
    "from thermodynamics import *\n",
    "\n",
    "### Figure setup\n",
    "# Set up fontsizes\n",
    "plt.rcParams.update({'axes.labelsize': 'x-large',\n",
    "                     'axes.titlesize': 'x-large',\n",
    "                     'xtick.labelsize': 'large',\n",
    "                     'ytick.labelsize': 'large',\n",
    "                     'figure.titlesize': 'xx-large',\n",
    "                     'figure.subplot.top': '0.87',\n",
    "                     'figure.subplot.wspace': '0.2',\n",
    "                     'figure.subplot.hspace': '0.3'})"
   ]
  },
  {
   "cell_type": "code",
   "execution_count": 5,
   "metadata": {
    "ExecuteTime": {
     "end_time": "2016-10-25T14:51:39.767450",
     "start_time": "2016-10-25T14:51:39.477034"
    },
    "collapsed": false,
    "hide_input": false,
    "run_control": {
     "frozen": false,
     "read_only": false
    },
    "scrolled": false
   },
   "outputs": [
    {
     "name": "stdout",
     "output_type": "stream",
     "text": [
      "\tVariables contained in IASI files:\n",
      "\n",
      "                                Size                                Dimensions                                               Name\n",
      "lev                            (30,)                                     (lev)             hybrid level at midpoints (1000*(A+B))\n",
      "hyam                           (30,)                                     (lev)            hybrid A coefficient at layer midpoints\n",
      "hybm                           (30,)                                     (lev)            hybrid B coefficient at layer midpoints\n",
      "ilev                           (31,)                                    (ilev)            hybrid level at interfaces (1000*(A+B))\n",
      "hyai                           (31,)                                    (ilev)           hybrid A coefficient at layer interfaces\n",
      "hybi                           (31,)                                    (ilev)           hybrid B coefficient at layer interfaces\n",
      "P0                                ()                                        ()                                 reference pressure\n",
      "time                            (1,)                                    (time)                                               time\n",
      "date                            (1,)                                    (time)                            current date (YYYYMMDD)\n",
      "datesec                         (1,)                                    (time)                    current seconds of current date\n",
      "lat                            (96,)                                     (lat)                                           latitude\n",
      "lon                           (144,)                                     (lon)                                          longitude\n",
      "slat                           (95,)                                    (slat)                                 staggered latitude\n",
      "slon                          (144,)                                    (slon)                                staggered longitude\n",
      "w_stag                         (95,)                                    (slat)                         staggered latitude weights\n",
      "time_bnds                     (1, 2)                              (time, nbnd)                            time interval endpoints\n",
      "date_written                  (1, 8)                             (time, chars)                                                   \n",
      "time_written                  (1, 8)                             (time, chars)                                                   \n",
      "ntrm                              ()                                        ()                    spectral truncation parameter M\n",
      "ntrn                              ()                                        ()                    spectral truncation parameter N\n",
      "ntrk                              ()                                        ()                    spectral truncation parameter K\n",
      "ndbase                            ()                                        ()                                           base day\n",
      "nsbase                            ()                                        ()                                seconds of base day\n",
      "nbdate                            ()                                        ()                               base date (YYYYMMDD)\n",
      "nbsec                             ()                                        ()                               seconds of base date\n",
      "mdt                               ()                                        ()                                           timestep\n",
      "nlon                           (96,)                                     (lat)                               number of longitudes\n",
      "wnummax                        (96,)                                     (lat)                          cutoff Fourier wavenumber\n",
      "gw                             (96,)                                     (lat)                                      gauss weights\n",
      "ndcur                           (1,)                                    (time)                        current day (from base day)\n",
      "nscur                           (1,)                                    (time)                     current seconds of current day\n",
      "co2vmr                          (1,)                                    (time)                            co2 volume mixing ratio\n",
      "ch4vmr                          (1,)                                    (time)                            ch4 volume mixing ratio\n",
      "n2ovmr                          (1,)                                    (time)                            n2o volume mixing ratio\n",
      "f11vmr                          (1,)                                    (time)                            f11 volume mixing ratio\n",
      "f12vmr                          (1,)                                    (time)                            f12 volume mixing ratio\n",
      "sol_tsi                         (1,)                                    (time)                             total solar irradiance\n",
      "nsteph                          (1,)                                    (time)                                   current timestep\n",
      "BFLX                    (1, 96, 144)                          (time, lat, lon)      CRM large-scale surface buoyancy flux (K m/s)\n",
      "CRM_PREC          (1, 1, 8, 96, 144)          (time, crm_ny, crm_nx, lat, lon)                             CRM Precipitation Rate\n",
      "CRM_QV        (1, 30, 1, 8, 96, 144)  (time, crm_nz, crm_ny, crm_nx, lat, lon)                                    CRM Water Vapor\n",
      "CRM_T         (1, 30, 1, 8, 96, 144)  (time, crm_nz, crm_ny, crm_nx, lat, lon)                                    CRM Temperature\n",
      "CRM_U         (1, 30, 1, 8, 96, 144)  (time, crm_nz, crm_ny, crm_nx, lat, lon)                                         CRM x-wind\n",
      "CRM_V         (1, 30, 1, 8, 96, 144)  (time, crm_nz, crm_ny, crm_nx, lat, lon)                                         CRM y-wind\n",
      "CRM_W         (1, 30, 1, 8, 96, 144)  (time, crm_nz, crm_ny, crm_nx, lat, lon)                                         CRM z-wind\n",
      "CRM_WVAR      (1, 30, 1, 8, 96, 144)  (time, crm_nz, crm_ny, crm_nx, lat, lon)                vertical velocity variance from CRM\n",
      "EVAPPREC            (1, 30, 96, 144)                     (time, lev, lat, lon)              Rate of evaporation of falling precip\n",
      "FU                  (1, 30, 96, 144)                     (time, lev, lat, lon)                            Zonal wind forcing term\n",
      "FU_S                (1, 30, 95, 144)                    (time, lev, slat, lon)          Zonal wind forcing term on staggered grid\n",
      "FV                  (1, 30, 96, 144)                     (time, lev, lat, lon)                       Meridional wind forcing term\n",
      "FV_S                (1, 30, 96, 144)                    (time, lev, lat, slon)     Meridional wind forcing term on staggered grid\n",
      "OMEGA               (1, 30, 96, 144)                     (time, lev, lat, lon)                       Vertical velocity (pressure)\n",
      "PRECC                   (1, 96, 144)                          (time, lat, lon)          Convective precipitation rate (liq + ice)\n",
      "PRECL                   (1, 96, 144)                          (time, lat, lon)  Large-scale (stable) precipitation rate (liq +...\n",
      "PRECSH                  (1, 96, 144)                          (time, lat, lon)              Shallow Convection precipitation rate\n",
      "PRECT                   (1, 96, 144)                          (time, lat, lon)  Total (convective and large-scale) precipitati...\n",
      "PRECTMX                 (1, 96, 144)                          (time, lat, lon)  Maximum (convective and large-scale) precipita...\n",
      "Q                   (1, 30, 96, 144)                     (time, lev, lat, lon)                                  Specific humidity\n",
      "QBOT                    (1, 96, 144)                          (time, lat, lon)        Lowest model level water vapor mixing ratio\n",
      "RELHUM              (1, 30, 96, 144)                     (time, lev, lat, lon)                                  Relative humidity\n",
      "SPBUOYA             (1, 30, 96, 144)                     (time, lev, lat, lon)                     bouyancy flux profile from CRM\n",
      "SPMCDN              (1, 30, 96, 144)                     (time, lev, lat, lon)                       Downdraft mass flux from CRM\n",
      "SPMCUP              (1, 30, 96, 144)                     (time, lev, lat, lon)                         Updraft mass flux from CRM\n",
      "SPPFLX              (1, 30, 96, 144)                     (time, lev, lat, lon)                        Precipitation flux from CRM\n",
      "SPQR                (1, 30, 96, 144)                     (time, lev, lat, lon)                                      Rain from CRM\n",
      "SST                     (1, 96, 144)                          (time, lat, lon)                            sea surface temperature\n",
      "T                   (1, 30, 96, 144)                     (time, lev, lat, lon)                                        Temperature\n",
      "TH                  (1, 31, 96, 144)                    (time, ilev, lat, lon)                              Potential Temperature\n",
      "TMQ                     (1, 96, 144)                          (time, lat, lon)   Total (vertically integrated) precipitable water\n",
      "TS                      (1, 96, 144)                          (time, lat, lon)                    Surface temperature (radiative)\n",
      "U                   (1, 30, 96, 144)                     (time, lev, lat, lon)                                         Zonal wind\n",
      "US                  (1, 30, 95, 144)                    (time, lev, slat, lon)                              Zonal wind, staggered\n",
      "V                   (1, 30, 96, 144)                     (time, lev, lat, lon)                                    Meridional wind\n",
      "VS                  (1, 30, 96, 144)                    (time, lev, lat, slon)                         Meridional wind, staggered\n",
      "ufrc_Cu             (1, 31, 96, 144)                    (time, ilev, lat, lon)                 Convective updraft fractional area\n",
      "umf_Cu              (1, 31, 96, 144)                    (time, ilev, lat, lon)                          Cumulus updraft mass flux\n",
      "wlcl_Cu                 (1, 96, 144)                          (time, lat, lon)                   Cumulus vertical velocity at LCL\n",
      "wu_Cu               (1, 31, 96, 144)                    (time, ilev, lat, lon)               Convective updraft vertical velocity\n"
     ]
    }
   ],
   "source": [
    "# Load an SPCAM output file\n",
    "dir_spcam = \"/Users/bfildier/Data/spcam/sample_outputs/\"\n",
    "file_spcam = \"base_variables.cam.h0.2008-10-15-03600.nc\"\n",
    "inputfile_spcam = os.path.join(dir_spcam,file_spcam)\n",
    "fh_spcam = Dataset(inputfile_spcam,mode = 'r')\n",
    "nvar = len(fh_spcam.variables.keys())\n",
    "var_info = pd.DataFrame(index=range(0),columns=['Variable','Size','Dimensions','Name'])\n",
    "for i in range(nvar):\n",
    "    var = fh_spcam.variables.keys()[i]\n",
    "    # Dimensions names\n",
    "    desc_stream = StringIO.StringIO()\n",
    "    print >>desc_stream, fh_spcam.variables[var]\n",
    "    dimnames = desc_stream.getvalue().split(' '+var)[1].split('\\n')[0]\n",
    "    # Var name\n",
    "    name = ''\n",
    "    if hasattr(fh_spcam.variables[var], 'long_name'):\n",
    "        name = fh_spcam.variables[var].long_name\n",
    "    # Store output\n",
    "    var_info.loc[i] = [var,fh_spcam.variables[var].shape,dimnames,name]\n",
    "var_info.set_index(\"Variable\",inplace=True)\n",
    "var_info.index.names = [None]\n",
    "\n",
    "print \"\\tVariables contained in IASI files:\\n\"\n",
    "print var_info.to_string(justify=\"right\")"
   ]
  },
  {
   "cell_type": "code",
   "execution_count": 8,
   "metadata": {
    "ExecuteTime": {
     "end_time": "2016-10-25T14:52:45.198633",
     "start_time": "2016-10-25T14:52:45.113409"
    },
    "collapsed": false,
    "run_control": {
     "frozen": false,
     "read_only": false
    }
   },
   "outputs": [
    {
     "name": "stdout",
     "output_type": "stream",
     "text": [
      "(1, 30, 96, 144) (1, 30, 96, 144) (1, 30, 96, 144)\n",
      "9.50312e-07 0.0211684\n",
      "186.605 310.564\n",
      "0.000776513482332 0.000173158153188 0.025937 0.0600587\n"
     ]
    }
   ],
   "source": [
    "Q = fh_spcam.variables['Q'][:]\n",
    "T = fh_spcam.variables['T'][:]\n",
    "RELHUM = fh_spcam.variables['RELHUM'][:]\n",
    "RH = relativeHumidity(T,Q)\n",
    "print Q.shape, T.shape, RELHUM.shape\n",
    "print Q.min(), Q.max()\n",
    "print T.min(), T.max()\n",
    "print np.mean(RH[0,-1,:,:]), RH[0,-1,:,:].std(), RELHUM[0,0,:,:].mean(), RELHUM[0,0,:,:].std()"
   ]
  },
  {
   "cell_type": "code",
   "execution_count": 45,
   "metadata": {
    "ExecuteTime": {
     "end_time": "2016-10-17T10:48:18.025357",
     "start_time": "2016-10-17T10:48:17.981637"
    },
    "collapsed": false,
    "run_control": {
     "frozen": false,
     "read_only": false
    },
    "scrolled": false
   },
   "outputs": [
    {
     "name": "stdout",
     "output_type": "stream",
     "text": [
      "(time, lev, lat, lon)\n"
     ]
    }
   ],
   "source": [
    "import StringIO\n",
    "\n",
    "var = 'V'\n",
    "desc_stream = StringIO.StringIO()\n",
    "print >>desc_stream, fh_spcam.variables[var]\n",
    "dimnames = desc_stream.getvalue().split(' '+var)[1].split('\\n')[0]\n",
    "print dimnames\n",
    "# print fh_spcam.dimensions.keys()\n",
    "# for i in fh_spcam.variables['CRM_T'].mdims:\n",
    "#     print fh_spcam.dimensions.keys()[i]"
   ]
  }
 ],
 "metadata": {
  "hide_input": true,
  "kernelspec": {
   "display_name": "Python 2",
   "language": "python",
   "name": "python2"
  },
  "language_info": {
   "codemirror_mode": {
    "name": "ipython",
    "version": 2
   },
   "file_extension": ".py",
   "mimetype": "text/x-python",
   "name": "python",
   "nbconvert_exporter": "python",
   "pygments_lexer": "ipython2",
   "version": "2.7.11"
  },
  "latex_envs": {
   "bibliofile": "biblio.bib",
   "cite_by": "apalike",
   "current_citInitial": 1,
   "eqLabelWithNumbers": true,
   "eqNumInitial": 0
  },
  "toc": {
   "toc_cell": true,
   "toc_number_sections": true,
   "toc_threshold": 6,
   "toc_window_display": false
  }
 },
 "nbformat": 4,
 "nbformat_minor": 0
}
