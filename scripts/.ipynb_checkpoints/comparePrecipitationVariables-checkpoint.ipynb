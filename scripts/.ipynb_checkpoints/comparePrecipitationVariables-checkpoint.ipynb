{
 "cells": [
  {
   "cell_type": "code",
   "execution_count": 1,
   "metadata": {
    "ExecuteTime": {
     "end_time": "2017-02-07T15:53:13.888443",
     "start_time": "2017-02-07T15:53:02.467307"
    },
    "collapsed": true,
    "run_control": {
     "frozen": false,
     "read_only": false
    }
   },
   "outputs": [],
   "source": [
    "%matplotlib inline\n",
    "%load_ext autoreload\n",
    "%autoreload 2\n",
    "\n",
    "from mpl_toolkits.basemap import Basemap\n",
    "import numpy as np\n",
    "import numpy.ma as ma\n",
    "import matplotlib.pyplot as plt\n",
    "from matplotlib.colors import LogNorm\n",
    "import matplotlib.ticker as ticker\n",
    "from netCDF4 import Dataset, MFDataset\n",
    "from math import *\n",
    "import glob\n",
    "import string\n",
    "from datetime import date, time, datetime\n",
    "from pprint import pprint\n",
    "import pandas as pd\n",
    "import sys,os\n",
    "import StringIO\n",
    "\n",
    "plt.rcParams.update({'axes.labelsize': 'x-large',\n",
    "                     'axes.titlesize': 'x-large',\n",
    "                     'xtick.labelsize': 'large',\n",
    "                     'ytick.labelsize': 'large',\n",
    "                     'figure.titlesize': 'xx-large',\n",
    "                     'figure.subplot.top': '0.87',\n",
    "                     'figure.subplot.wspace': '0.5',\n",
    "                     'figure.subplot.hspace': '0.5'})\n"
   ]
  },
  {
   "cell_type": "code",
   "execution_count": 5,
   "metadata": {
    "ExecuteTime": {
     "end_time": "2017-02-07T15:56:23.029577",
     "start_time": "2017-02-07T15:56:22.983169"
    },
    "collapsed": false
   },
   "outputs": [],
   "source": [
    "# Add ../functions to system path\n",
    "currentpath = %pwd\n",
    "currentpath = str(currentpath)\n",
    "##-- In a python script do the following instead:\n",
    "##-- currentpath = os.path.dirname(os.path.realpath(__file__))\n",
    "sys.path.insert(0,currentpath[:currentpath.rfind('/')+1]+'functions')\n",
    "\n",
    "## Own modules\n",
    "from importingData import *\n",
    "\n",
    "##-- Output directories --##\n",
    "## Figures\n",
    "figdir = os.path.join(os.path.dirname(currentpath),'figures/fullResults')"
   ]
  },
  {
   "cell_type": "code",
   "execution_count": 12,
   "metadata": {
    "ExecuteTime": {
     "end_time": "2017-02-07T16:25:31.020583",
     "start_time": "2017-02-07T16:25:30.960769"
    },
    "collapsed": false
   },
   "outputs": [
    {
     "name": "stdout",
     "output_type": "stream",
     "text": [
      "(1, 32, 144) (1, 32, 144) (1, 32, 144)\n",
      "1.94325e-06 1.94325e-06 0.0\n",
      "True\n"
     ]
    }
   ],
   "source": [
    "inputdir = '/Users/bfildier/Data/preprocessed/bf_FSPCAMm_AMIP_abrupt4xCO2/day'\n",
    "\n",
    "prect = getVar('PRECT',inputdir)\n",
    "precc = getVar('PRECC',inputdir)\n",
    "precl = getVar('PRECL',inputdir)\n",
    "    \n",
    "print prect.shape, precc.shape, precl.shape\n",
    "print prect.max(), precc.max(), precl.max()\n",
    "print np.alltrue(prect == precc)"
   ]
  }
 ],
 "metadata": {
  "hide_input": false,
  "kernelspec": {
   "display_name": "Python 2",
   "language": "python",
   "name": "python2"
  },
  "language_info": {
   "codemirror_mode": {
    "name": "ipython",
    "version": 2
   },
   "file_extension": ".py",
   "mimetype": "text/x-python",
   "name": "python",
   "nbconvert_exporter": "python",
   "pygments_lexer": "ipython2",
   "version": "2.7.11"
  },
  "latex_envs": {
   "bibliofile": "biblio.bib",
   "cite_by": "apalike",
   "current_citInitial": 1,
   "eqLabelWithNumbers": true,
   "eqNumInitial": 0
  },
  "toc": {
   "toc_cell": true,
   "toc_number_sections": true,
   "toc_threshold": 6,
   "toc_window_display": false
  }
 },
 "nbformat": 4,
 "nbformat_minor": 0
}
